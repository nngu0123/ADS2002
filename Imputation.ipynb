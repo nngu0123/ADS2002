{
  "cells": [
    {
      "cell_type": "markdown",
      "metadata": {
        "id": "view-in-github",
        "colab_type": "text"
      },
      "source": [
        "<a href=\"https://colab.research.google.com/github/nngu0123/ADS2002/blob/main/Imputation.ipynb\" target=\"_parent\"><img src=\"https://colab.research.google.com/assets/colab-badge.svg\" alt=\"Open In Colab\"/></a>"
      ]
    },
    {
      "cell_type": "markdown",
      "metadata": {
        "id": "_SePPl7JZvny"
      },
      "source": [
        "# Imputing Missing Data"
      ]
    },
    {
      "cell_type": "markdown",
      "metadata": {
        "id": "YGbd-JVpZvn1"
      },
      "source": [
        "In this notebook we investigate ways for dealing with missing data using Scikit-Learn's imputation routines. There are three main routines we will discuss: `SimpleImputer`, `KNNImputer` and `IterativeImputer`. We will only discuss imputing continuous, numerical values; for imputing categorical values possible approaches are using the mode or `KNNImputer`.\n",
        "\n",
        "We will use the [Pima Indians Diabetes Dataset](https://www.kaggle.com/uciml/pima-indians-diabetes-database), which can be downloaded from [Monash Gitlab](https://gitlab.erc.monash.edu.au/bads/data-challenges-resources/-/tree/main/Machine-Learning/Imputation/pima_indians_diabetes.csv). This aims to predict whether the patient has diabetes from a number of diagnostic measurements. All patients are females of Pima Indian heritage, who are at least 21 years old.\n",
        "\n",
        "Previously, we have dealt with missing data by deleting that entry. However, that means losing valuable data which contributes to the training of your model. A better approach is to impute the data, i.e., infer the missing data from the existing observations.\n",
        "\n",
        "We will concentrate here on Scikit-Learn's imputation routines, although some of the techniques, such as replacement of values with the mean or mode, can be easily implemented in Pandas."
      ]
    },
    {
      "cell_type": "markdown",
      "metadata": {
        "id": "c4pM4ORtZvn1"
      },
      "source": [
        "## Contents"
      ]
    },
    {
      "cell_type": "markdown",
      "metadata": {
        "id": "ERr8PsnpZvn2"
      },
      "source": [
        "* Introduction\n",
        "* Preliminary analysis\n",
        "* Cross-validation analysis\n",
        "* Exercises"
      ]
    },
    {
      "cell_type": "markdown",
      "metadata": {
        "id": "Oni9v8o3Zvn2"
      },
      "source": [
        "## Introduction"
      ]
    },
    {
      "cell_type": "markdown",
      "metadata": {
        "id": "dDFH89BAZvn2"
      },
      "source": [
        "We first import the standard libraries and the csv file."
      ]
    },
    {
      "cell_type": "code",
      "execution_count": 1,
      "metadata": {
        "id": "pTU62QMLZvn3"
      },
      "outputs": [],
      "source": [
        "import pandas as pd\n",
        "import numpy as np\n",
        "from matplotlib import pyplot as plt\n",
        "import seaborn as sns\n",
        "import warnings\n",
        "warnings.filterwarnings(\"ignore\")\n",
        "\n",
        "pima = pd.read_csv(\"pima_indians_diabetes.csv\")"
      ]
    },
    {
      "cell_type": "markdown",
      "metadata": {
        "id": "qSxdRwH2Zvn4"
      },
      "source": [
        "We can now view a random sample of the data. In the columns `BloodPressure`, `SkinThickness` and `Insulin` there are values of 0, which are clearly not physical. This is indicative of missing values."
      ]
    },
    {
      "cell_type": "code",
      "execution_count": 2,
      "metadata": {
        "colab": {
          "base_uri": "https://localhost:8080/",
          "height": 677
        },
        "id": "ef0RHKMxZvn4",
        "outputId": "26c1aa76-bb71-43bb-c602-3248eabb3cde"
      },
      "outputs": [
        {
          "output_type": "execute_result",
          "data": {
            "text/plain": [
              "     Pregnancies  Glucose  BloodPressure  SkinThickness  Insulin   BMI  \\\n",
              "427            1      181             64             30      180  34.1   \n",
              "328            2      102             86             36      120  45.5   \n",
              "313            3      113             50             10       85  29.5   \n",
              "298           14      100             78             25      184  36.6   \n",
              "433            2      139             75              0        0  25.6   \n",
              "625            4       90             88             47       54  37.7   \n",
              "633            1      128             82             17      183  27.5   \n",
              "11            10      168             74              0        0  38.0   \n",
              "203            2       99             70             16       44  20.4   \n",
              "235            4      171             72              0        0  43.6   \n",
              "742            1      109             58             18      116  28.5   \n",
              "333           12      106             80              0        0  23.6   \n",
              "345            8      126             88             36      108  38.5   \n",
              "254           12       92             62              7      258  27.6   \n",
              "736            0      126             86             27      120  27.4   \n",
              "762            9       89             62              0        0  22.5   \n",
              "121            6      111             64             39        0  34.2   \n",
              "484            0      145              0              0        0  44.2   \n",
              "563            6       99             60             19       54  26.9   \n",
              "418            1       83             68              0        0  18.2   \n",
              "\n",
              "     DiabetesPedigreeFunction  Age  Outcome  \n",
              "427                     0.328   38        1  \n",
              "328                     0.127   23        1  \n",
              "313                     0.626   25        0  \n",
              "298                     0.412   46        1  \n",
              "433                     0.167   29        0  \n",
              "625                     0.362   29        0  \n",
              "633                     0.115   22        0  \n",
              "11                      0.537   34        1  \n",
              "203                     0.235   27        0  \n",
              "235                     0.479   26        1  \n",
              "742                     0.219   22        0  \n",
              "333                     0.137   44        0  \n",
              "345                     0.349   49        0  \n",
              "254                     0.926   44        1  \n",
              "736                     0.515   21        0  \n",
              "762                     0.142   33        0  \n",
              "121                     0.260   24        0  \n",
              "484                     0.630   31        1  \n",
              "563                     0.497   32        0  \n",
              "418                     0.624   27        0  "
            ],
            "text/html": [
              "\n",
              "  <div id=\"df-7c875cc9-aa18-4c19-9f0e-c232e68388e3\" class=\"colab-df-container\">\n",
              "    <div>\n",
              "<style scoped>\n",
              "    .dataframe tbody tr th:only-of-type {\n",
              "        vertical-align: middle;\n",
              "    }\n",
              "\n",
              "    .dataframe tbody tr th {\n",
              "        vertical-align: top;\n",
              "    }\n",
              "\n",
              "    .dataframe thead th {\n",
              "        text-align: right;\n",
              "    }\n",
              "</style>\n",
              "<table border=\"1\" class=\"dataframe\">\n",
              "  <thead>\n",
              "    <tr style=\"text-align: right;\">\n",
              "      <th></th>\n",
              "      <th>Pregnancies</th>\n",
              "      <th>Glucose</th>\n",
              "      <th>BloodPressure</th>\n",
              "      <th>SkinThickness</th>\n",
              "      <th>Insulin</th>\n",
              "      <th>BMI</th>\n",
              "      <th>DiabetesPedigreeFunction</th>\n",
              "      <th>Age</th>\n",
              "      <th>Outcome</th>\n",
              "    </tr>\n",
              "  </thead>\n",
              "  <tbody>\n",
              "    <tr>\n",
              "      <th>427</th>\n",
              "      <td>1</td>\n",
              "      <td>181</td>\n",
              "      <td>64</td>\n",
              "      <td>30</td>\n",
              "      <td>180</td>\n",
              "      <td>34.1</td>\n",
              "      <td>0.328</td>\n",
              "      <td>38</td>\n",
              "      <td>1</td>\n",
              "    </tr>\n",
              "    <tr>\n",
              "      <th>328</th>\n",
              "      <td>2</td>\n",
              "      <td>102</td>\n",
              "      <td>86</td>\n",
              "      <td>36</td>\n",
              "      <td>120</td>\n",
              "      <td>45.5</td>\n",
              "      <td>0.127</td>\n",
              "      <td>23</td>\n",
              "      <td>1</td>\n",
              "    </tr>\n",
              "    <tr>\n",
              "      <th>313</th>\n",
              "      <td>3</td>\n",
              "      <td>113</td>\n",
              "      <td>50</td>\n",
              "      <td>10</td>\n",
              "      <td>85</td>\n",
              "      <td>29.5</td>\n",
              "      <td>0.626</td>\n",
              "      <td>25</td>\n",
              "      <td>0</td>\n",
              "    </tr>\n",
              "    <tr>\n",
              "      <th>298</th>\n",
              "      <td>14</td>\n",
              "      <td>100</td>\n",
              "      <td>78</td>\n",
              "      <td>25</td>\n",
              "      <td>184</td>\n",
              "      <td>36.6</td>\n",
              "      <td>0.412</td>\n",
              "      <td>46</td>\n",
              "      <td>1</td>\n",
              "    </tr>\n",
              "    <tr>\n",
              "      <th>433</th>\n",
              "      <td>2</td>\n",
              "      <td>139</td>\n",
              "      <td>75</td>\n",
              "      <td>0</td>\n",
              "      <td>0</td>\n",
              "      <td>25.6</td>\n",
              "      <td>0.167</td>\n",
              "      <td>29</td>\n",
              "      <td>0</td>\n",
              "    </tr>\n",
              "    <tr>\n",
              "      <th>625</th>\n",
              "      <td>4</td>\n",
              "      <td>90</td>\n",
              "      <td>88</td>\n",
              "      <td>47</td>\n",
              "      <td>54</td>\n",
              "      <td>37.7</td>\n",
              "      <td>0.362</td>\n",
              "      <td>29</td>\n",
              "      <td>0</td>\n",
              "    </tr>\n",
              "    <tr>\n",
              "      <th>633</th>\n",
              "      <td>1</td>\n",
              "      <td>128</td>\n",
              "      <td>82</td>\n",
              "      <td>17</td>\n",
              "      <td>183</td>\n",
              "      <td>27.5</td>\n",
              "      <td>0.115</td>\n",
              "      <td>22</td>\n",
              "      <td>0</td>\n",
              "    </tr>\n",
              "    <tr>\n",
              "      <th>11</th>\n",
              "      <td>10</td>\n",
              "      <td>168</td>\n",
              "      <td>74</td>\n",
              "      <td>0</td>\n",
              "      <td>0</td>\n",
              "      <td>38.0</td>\n",
              "      <td>0.537</td>\n",
              "      <td>34</td>\n",
              "      <td>1</td>\n",
              "    </tr>\n",
              "    <tr>\n",
              "      <th>203</th>\n",
              "      <td>2</td>\n",
              "      <td>99</td>\n",
              "      <td>70</td>\n",
              "      <td>16</td>\n",
              "      <td>44</td>\n",
              "      <td>20.4</td>\n",
              "      <td>0.235</td>\n",
              "      <td>27</td>\n",
              "      <td>0</td>\n",
              "    </tr>\n",
              "    <tr>\n",
              "      <th>235</th>\n",
              "      <td>4</td>\n",
              "      <td>171</td>\n",
              "      <td>72</td>\n",
              "      <td>0</td>\n",
              "      <td>0</td>\n",
              "      <td>43.6</td>\n",
              "      <td>0.479</td>\n",
              "      <td>26</td>\n",
              "      <td>1</td>\n",
              "    </tr>\n",
              "    <tr>\n",
              "      <th>742</th>\n",
              "      <td>1</td>\n",
              "      <td>109</td>\n",
              "      <td>58</td>\n",
              "      <td>18</td>\n",
              "      <td>116</td>\n",
              "      <td>28.5</td>\n",
              "      <td>0.219</td>\n",
              "      <td>22</td>\n",
              "      <td>0</td>\n",
              "    </tr>\n",
              "    <tr>\n",
              "      <th>333</th>\n",
              "      <td>12</td>\n",
              "      <td>106</td>\n",
              "      <td>80</td>\n",
              "      <td>0</td>\n",
              "      <td>0</td>\n",
              "      <td>23.6</td>\n",
              "      <td>0.137</td>\n",
              "      <td>44</td>\n",
              "      <td>0</td>\n",
              "    </tr>\n",
              "    <tr>\n",
              "      <th>345</th>\n",
              "      <td>8</td>\n",
              "      <td>126</td>\n",
              "      <td>88</td>\n",
              "      <td>36</td>\n",
              "      <td>108</td>\n",
              "      <td>38.5</td>\n",
              "      <td>0.349</td>\n",
              "      <td>49</td>\n",
              "      <td>0</td>\n",
              "    </tr>\n",
              "    <tr>\n",
              "      <th>254</th>\n",
              "      <td>12</td>\n",
              "      <td>92</td>\n",
              "      <td>62</td>\n",
              "      <td>7</td>\n",
              "      <td>258</td>\n",
              "      <td>27.6</td>\n",
              "      <td>0.926</td>\n",
              "      <td>44</td>\n",
              "      <td>1</td>\n",
              "    </tr>\n",
              "    <tr>\n",
              "      <th>736</th>\n",
              "      <td>0</td>\n",
              "      <td>126</td>\n",
              "      <td>86</td>\n",
              "      <td>27</td>\n",
              "      <td>120</td>\n",
              "      <td>27.4</td>\n",
              "      <td>0.515</td>\n",
              "      <td>21</td>\n",
              "      <td>0</td>\n",
              "    </tr>\n",
              "    <tr>\n",
              "      <th>762</th>\n",
              "      <td>9</td>\n",
              "      <td>89</td>\n",
              "      <td>62</td>\n",
              "      <td>0</td>\n",
              "      <td>0</td>\n",
              "      <td>22.5</td>\n",
              "      <td>0.142</td>\n",
              "      <td>33</td>\n",
              "      <td>0</td>\n",
              "    </tr>\n",
              "    <tr>\n",
              "      <th>121</th>\n",
              "      <td>6</td>\n",
              "      <td>111</td>\n",
              "      <td>64</td>\n",
              "      <td>39</td>\n",
              "      <td>0</td>\n",
              "      <td>34.2</td>\n",
              "      <td>0.260</td>\n",
              "      <td>24</td>\n",
              "      <td>0</td>\n",
              "    </tr>\n",
              "    <tr>\n",
              "      <th>484</th>\n",
              "      <td>0</td>\n",
              "      <td>145</td>\n",
              "      <td>0</td>\n",
              "      <td>0</td>\n",
              "      <td>0</td>\n",
              "      <td>44.2</td>\n",
              "      <td>0.630</td>\n",
              "      <td>31</td>\n",
              "      <td>1</td>\n",
              "    </tr>\n",
              "    <tr>\n",
              "      <th>563</th>\n",
              "      <td>6</td>\n",
              "      <td>99</td>\n",
              "      <td>60</td>\n",
              "      <td>19</td>\n",
              "      <td>54</td>\n",
              "      <td>26.9</td>\n",
              "      <td>0.497</td>\n",
              "      <td>32</td>\n",
              "      <td>0</td>\n",
              "    </tr>\n",
              "    <tr>\n",
              "      <th>418</th>\n",
              "      <td>1</td>\n",
              "      <td>83</td>\n",
              "      <td>68</td>\n",
              "      <td>0</td>\n",
              "      <td>0</td>\n",
              "      <td>18.2</td>\n",
              "      <td>0.624</td>\n",
              "      <td>27</td>\n",
              "      <td>0</td>\n",
              "    </tr>\n",
              "  </tbody>\n",
              "</table>\n",
              "</div>\n",
              "    <div class=\"colab-df-buttons\">\n",
              "\n",
              "  <div class=\"colab-df-container\">\n",
              "    <button class=\"colab-df-convert\" onclick=\"convertToInteractive('df-7c875cc9-aa18-4c19-9f0e-c232e68388e3')\"\n",
              "            title=\"Convert this dataframe to an interactive table.\"\n",
              "            style=\"display:none;\">\n",
              "\n",
              "  <svg xmlns=\"http://www.w3.org/2000/svg\" height=\"24px\" viewBox=\"0 -960 960 960\">\n",
              "    <path d=\"M120-120v-720h720v720H120Zm60-500h600v-160H180v160Zm220 220h160v-160H400v160Zm0 220h160v-160H400v160ZM180-400h160v-160H180v160Zm440 0h160v-160H620v160ZM180-180h160v-160H180v160Zm440 0h160v-160H620v160Z\"/>\n",
              "  </svg>\n",
              "    </button>\n",
              "\n",
              "  <style>\n",
              "    .colab-df-container {\n",
              "      display:flex;\n",
              "      gap: 12px;\n",
              "    }\n",
              "\n",
              "    .colab-df-convert {\n",
              "      background-color: #E8F0FE;\n",
              "      border: none;\n",
              "      border-radius: 50%;\n",
              "      cursor: pointer;\n",
              "      display: none;\n",
              "      fill: #1967D2;\n",
              "      height: 32px;\n",
              "      padding: 0 0 0 0;\n",
              "      width: 32px;\n",
              "    }\n",
              "\n",
              "    .colab-df-convert:hover {\n",
              "      background-color: #E2EBFA;\n",
              "      box-shadow: 0px 1px 2px rgba(60, 64, 67, 0.3), 0px 1px 3px 1px rgba(60, 64, 67, 0.15);\n",
              "      fill: #174EA6;\n",
              "    }\n",
              "\n",
              "    .colab-df-buttons div {\n",
              "      margin-bottom: 4px;\n",
              "    }\n",
              "\n",
              "    [theme=dark] .colab-df-convert {\n",
              "      background-color: #3B4455;\n",
              "      fill: #D2E3FC;\n",
              "    }\n",
              "\n",
              "    [theme=dark] .colab-df-convert:hover {\n",
              "      background-color: #434B5C;\n",
              "      box-shadow: 0px 1px 3px 1px rgba(0, 0, 0, 0.15);\n",
              "      filter: drop-shadow(0px 1px 2px rgba(0, 0, 0, 0.3));\n",
              "      fill: #FFFFFF;\n",
              "    }\n",
              "  </style>\n",
              "\n",
              "    <script>\n",
              "      const buttonEl =\n",
              "        document.querySelector('#df-7c875cc9-aa18-4c19-9f0e-c232e68388e3 button.colab-df-convert');\n",
              "      buttonEl.style.display =\n",
              "        google.colab.kernel.accessAllowed ? 'block' : 'none';\n",
              "\n",
              "      async function convertToInteractive(key) {\n",
              "        const element = document.querySelector('#df-7c875cc9-aa18-4c19-9f0e-c232e68388e3');\n",
              "        const dataTable =\n",
              "          await google.colab.kernel.invokeFunction('convertToInteractive',\n",
              "                                                    [key], {});\n",
              "        if (!dataTable) return;\n",
              "\n",
              "        const docLinkHtml = 'Like what you see? Visit the ' +\n",
              "          '<a target=\"_blank\" href=https://colab.research.google.com/notebooks/data_table.ipynb>data table notebook</a>'\n",
              "          + ' to learn more about interactive tables.';\n",
              "        element.innerHTML = '';\n",
              "        dataTable['output_type'] = 'display_data';\n",
              "        await google.colab.output.renderOutput(dataTable, element);\n",
              "        const docLink = document.createElement('div');\n",
              "        docLink.innerHTML = docLinkHtml;\n",
              "        element.appendChild(docLink);\n",
              "      }\n",
              "    </script>\n",
              "  </div>\n",
              "\n",
              "\n",
              "<div id=\"df-03642f03-4302-4db7-9794-2061e44d1790\">\n",
              "  <button class=\"colab-df-quickchart\" onclick=\"quickchart('df-03642f03-4302-4db7-9794-2061e44d1790')\"\n",
              "            title=\"Suggest charts.\"\n",
              "            style=\"display:none;\">\n",
              "\n",
              "<svg xmlns=\"http://www.w3.org/2000/svg\" height=\"24px\"viewBox=\"0 0 24 24\"\n",
              "     width=\"24px\">\n",
              "    <g>\n",
              "        <path d=\"M19 3H5c-1.1 0-2 .9-2 2v14c0 1.1.9 2 2 2h14c1.1 0 2-.9 2-2V5c0-1.1-.9-2-2-2zM9 17H7v-7h2v7zm4 0h-2V7h2v10zm4 0h-2v-4h2v4z\"/>\n",
              "    </g>\n",
              "</svg>\n",
              "  </button>\n",
              "\n",
              "<style>\n",
              "  .colab-df-quickchart {\n",
              "      --bg-color: #E8F0FE;\n",
              "      --fill-color: #1967D2;\n",
              "      --hover-bg-color: #E2EBFA;\n",
              "      --hover-fill-color: #174EA6;\n",
              "      --disabled-fill-color: #AAA;\n",
              "      --disabled-bg-color: #DDD;\n",
              "  }\n",
              "\n",
              "  [theme=dark] .colab-df-quickchart {\n",
              "      --bg-color: #3B4455;\n",
              "      --fill-color: #D2E3FC;\n",
              "      --hover-bg-color: #434B5C;\n",
              "      --hover-fill-color: #FFFFFF;\n",
              "      --disabled-bg-color: #3B4455;\n",
              "      --disabled-fill-color: #666;\n",
              "  }\n",
              "\n",
              "  .colab-df-quickchart {\n",
              "    background-color: var(--bg-color);\n",
              "    border: none;\n",
              "    border-radius: 50%;\n",
              "    cursor: pointer;\n",
              "    display: none;\n",
              "    fill: var(--fill-color);\n",
              "    height: 32px;\n",
              "    padding: 0;\n",
              "    width: 32px;\n",
              "  }\n",
              "\n",
              "  .colab-df-quickchart:hover {\n",
              "    background-color: var(--hover-bg-color);\n",
              "    box-shadow: 0 1px 2px rgba(60, 64, 67, 0.3), 0 1px 3px 1px rgba(60, 64, 67, 0.15);\n",
              "    fill: var(--button-hover-fill-color);\n",
              "  }\n",
              "\n",
              "  .colab-df-quickchart-complete:disabled,\n",
              "  .colab-df-quickchart-complete:disabled:hover {\n",
              "    background-color: var(--disabled-bg-color);\n",
              "    fill: var(--disabled-fill-color);\n",
              "    box-shadow: none;\n",
              "  }\n",
              "\n",
              "  .colab-df-spinner {\n",
              "    border: 2px solid var(--fill-color);\n",
              "    border-color: transparent;\n",
              "    border-bottom-color: var(--fill-color);\n",
              "    animation:\n",
              "      spin 1s steps(1) infinite;\n",
              "  }\n",
              "\n",
              "  @keyframes spin {\n",
              "    0% {\n",
              "      border-color: transparent;\n",
              "      border-bottom-color: var(--fill-color);\n",
              "      border-left-color: var(--fill-color);\n",
              "    }\n",
              "    20% {\n",
              "      border-color: transparent;\n",
              "      border-left-color: var(--fill-color);\n",
              "      border-top-color: var(--fill-color);\n",
              "    }\n",
              "    30% {\n",
              "      border-color: transparent;\n",
              "      border-left-color: var(--fill-color);\n",
              "      border-top-color: var(--fill-color);\n",
              "      border-right-color: var(--fill-color);\n",
              "    }\n",
              "    40% {\n",
              "      border-color: transparent;\n",
              "      border-right-color: var(--fill-color);\n",
              "      border-top-color: var(--fill-color);\n",
              "    }\n",
              "    60% {\n",
              "      border-color: transparent;\n",
              "      border-right-color: var(--fill-color);\n",
              "    }\n",
              "    80% {\n",
              "      border-color: transparent;\n",
              "      border-right-color: var(--fill-color);\n",
              "      border-bottom-color: var(--fill-color);\n",
              "    }\n",
              "    90% {\n",
              "      border-color: transparent;\n",
              "      border-bottom-color: var(--fill-color);\n",
              "    }\n",
              "  }\n",
              "</style>\n",
              "\n",
              "  <script>\n",
              "    async function quickchart(key) {\n",
              "      const quickchartButtonEl =\n",
              "        document.querySelector('#' + key + ' button');\n",
              "      quickchartButtonEl.disabled = true;  // To prevent multiple clicks.\n",
              "      quickchartButtonEl.classList.add('colab-df-spinner');\n",
              "      try {\n",
              "        const charts = await google.colab.kernel.invokeFunction(\n",
              "            'suggestCharts', [key], {});\n",
              "      } catch (error) {\n",
              "        console.error('Error during call to suggestCharts:', error);\n",
              "      }\n",
              "      quickchartButtonEl.classList.remove('colab-df-spinner');\n",
              "      quickchartButtonEl.classList.add('colab-df-quickchart-complete');\n",
              "    }\n",
              "    (() => {\n",
              "      let quickchartButtonEl =\n",
              "        document.querySelector('#df-03642f03-4302-4db7-9794-2061e44d1790 button');\n",
              "      quickchartButtonEl.style.display =\n",
              "        google.colab.kernel.accessAllowed ? 'block' : 'none';\n",
              "    })();\n",
              "  </script>\n",
              "</div>\n",
              "    </div>\n",
              "  </div>\n"
            ]
          },
          "metadata": {},
          "execution_count": 2
        }
      ],
      "source": [
        "pima.sample(20)"
      ]
    },
    {
      "cell_type": "markdown",
      "metadata": {
        "id": "TgZWHxNWZvn5"
      },
      "source": [
        "This can be investigated further by displaying the descriptive statistics, for which it is apparent that `Glucose` and `BMI` also have unrealistic values of 0. A value of 0 for `Pregnancies` is a physically realistic value."
      ]
    },
    {
      "cell_type": "code",
      "execution_count": 3,
      "metadata": {
        "colab": {
          "base_uri": "https://localhost:8080/",
          "height": 320
        },
        "id": "2-qQ-jETZvn5",
        "outputId": "c35f49f5-cde0-4767-e134-ea4d1a464376"
      },
      "outputs": [
        {
          "output_type": "execute_result",
          "data": {
            "text/plain": [
              "       Pregnancies     Glucose  BloodPressure  SkinThickness     Insulin  \\\n",
              "count   768.000000  768.000000     768.000000     768.000000  768.000000   \n",
              "mean      3.845052  120.894531      69.105469      20.536458   79.799479   \n",
              "std       3.369578   31.972618      19.355807      15.952218  115.244002   \n",
              "min       0.000000    0.000000       0.000000       0.000000    0.000000   \n",
              "25%       1.000000   99.000000      62.000000       0.000000    0.000000   \n",
              "50%       3.000000  117.000000      72.000000      23.000000   30.500000   \n",
              "75%       6.000000  140.250000      80.000000      32.000000  127.250000   \n",
              "max      17.000000  199.000000     122.000000      99.000000  846.000000   \n",
              "\n",
              "              BMI  DiabetesPedigreeFunction         Age     Outcome  \n",
              "count  768.000000                768.000000  768.000000  768.000000  \n",
              "mean    31.992578                  0.471876   33.240885    0.348958  \n",
              "std      7.884160                  0.331329   11.760232    0.476951  \n",
              "min      0.000000                  0.078000   21.000000    0.000000  \n",
              "25%     27.300000                  0.243750   24.000000    0.000000  \n",
              "50%     32.000000                  0.372500   29.000000    0.000000  \n",
              "75%     36.600000                  0.626250   41.000000    1.000000  \n",
              "max     67.100000                  2.420000   81.000000    1.000000  "
            ],
            "text/html": [
              "\n",
              "  <div id=\"df-03eff9f3-7153-4517-80a6-6e23c733959b\" class=\"colab-df-container\">\n",
              "    <div>\n",
              "<style scoped>\n",
              "    .dataframe tbody tr th:only-of-type {\n",
              "        vertical-align: middle;\n",
              "    }\n",
              "\n",
              "    .dataframe tbody tr th {\n",
              "        vertical-align: top;\n",
              "    }\n",
              "\n",
              "    .dataframe thead th {\n",
              "        text-align: right;\n",
              "    }\n",
              "</style>\n",
              "<table border=\"1\" class=\"dataframe\">\n",
              "  <thead>\n",
              "    <tr style=\"text-align: right;\">\n",
              "      <th></th>\n",
              "      <th>Pregnancies</th>\n",
              "      <th>Glucose</th>\n",
              "      <th>BloodPressure</th>\n",
              "      <th>SkinThickness</th>\n",
              "      <th>Insulin</th>\n",
              "      <th>BMI</th>\n",
              "      <th>DiabetesPedigreeFunction</th>\n",
              "      <th>Age</th>\n",
              "      <th>Outcome</th>\n",
              "    </tr>\n",
              "  </thead>\n",
              "  <tbody>\n",
              "    <tr>\n",
              "      <th>count</th>\n",
              "      <td>768.000000</td>\n",
              "      <td>768.000000</td>\n",
              "      <td>768.000000</td>\n",
              "      <td>768.000000</td>\n",
              "      <td>768.000000</td>\n",
              "      <td>768.000000</td>\n",
              "      <td>768.000000</td>\n",
              "      <td>768.000000</td>\n",
              "      <td>768.000000</td>\n",
              "    </tr>\n",
              "    <tr>\n",
              "      <th>mean</th>\n",
              "      <td>3.845052</td>\n",
              "      <td>120.894531</td>\n",
              "      <td>69.105469</td>\n",
              "      <td>20.536458</td>\n",
              "      <td>79.799479</td>\n",
              "      <td>31.992578</td>\n",
              "      <td>0.471876</td>\n",
              "      <td>33.240885</td>\n",
              "      <td>0.348958</td>\n",
              "    </tr>\n",
              "    <tr>\n",
              "      <th>std</th>\n",
              "      <td>3.369578</td>\n",
              "      <td>31.972618</td>\n",
              "      <td>19.355807</td>\n",
              "      <td>15.952218</td>\n",
              "      <td>115.244002</td>\n",
              "      <td>7.884160</td>\n",
              "      <td>0.331329</td>\n",
              "      <td>11.760232</td>\n",
              "      <td>0.476951</td>\n",
              "    </tr>\n",
              "    <tr>\n",
              "      <th>min</th>\n",
              "      <td>0.000000</td>\n",
              "      <td>0.000000</td>\n",
              "      <td>0.000000</td>\n",
              "      <td>0.000000</td>\n",
              "      <td>0.000000</td>\n",
              "      <td>0.000000</td>\n",
              "      <td>0.078000</td>\n",
              "      <td>21.000000</td>\n",
              "      <td>0.000000</td>\n",
              "    </tr>\n",
              "    <tr>\n",
              "      <th>25%</th>\n",
              "      <td>1.000000</td>\n",
              "      <td>99.000000</td>\n",
              "      <td>62.000000</td>\n",
              "      <td>0.000000</td>\n",
              "      <td>0.000000</td>\n",
              "      <td>27.300000</td>\n",
              "      <td>0.243750</td>\n",
              "      <td>24.000000</td>\n",
              "      <td>0.000000</td>\n",
              "    </tr>\n",
              "    <tr>\n",
              "      <th>50%</th>\n",
              "      <td>3.000000</td>\n",
              "      <td>117.000000</td>\n",
              "      <td>72.000000</td>\n",
              "      <td>23.000000</td>\n",
              "      <td>30.500000</td>\n",
              "      <td>32.000000</td>\n",
              "      <td>0.372500</td>\n",
              "      <td>29.000000</td>\n",
              "      <td>0.000000</td>\n",
              "    </tr>\n",
              "    <tr>\n",
              "      <th>75%</th>\n",
              "      <td>6.000000</td>\n",
              "      <td>140.250000</td>\n",
              "      <td>80.000000</td>\n",
              "      <td>32.000000</td>\n",
              "      <td>127.250000</td>\n",
              "      <td>36.600000</td>\n",
              "      <td>0.626250</td>\n",
              "      <td>41.000000</td>\n",
              "      <td>1.000000</td>\n",
              "    </tr>\n",
              "    <tr>\n",
              "      <th>max</th>\n",
              "      <td>17.000000</td>\n",
              "      <td>199.000000</td>\n",
              "      <td>122.000000</td>\n",
              "      <td>99.000000</td>\n",
              "      <td>846.000000</td>\n",
              "      <td>67.100000</td>\n",
              "      <td>2.420000</td>\n",
              "      <td>81.000000</td>\n",
              "      <td>1.000000</td>\n",
              "    </tr>\n",
              "  </tbody>\n",
              "</table>\n",
              "</div>\n",
              "    <div class=\"colab-df-buttons\">\n",
              "\n",
              "  <div class=\"colab-df-container\">\n",
              "    <button class=\"colab-df-convert\" onclick=\"convertToInteractive('df-03eff9f3-7153-4517-80a6-6e23c733959b')\"\n",
              "            title=\"Convert this dataframe to an interactive table.\"\n",
              "            style=\"display:none;\">\n",
              "\n",
              "  <svg xmlns=\"http://www.w3.org/2000/svg\" height=\"24px\" viewBox=\"0 -960 960 960\">\n",
              "    <path d=\"M120-120v-720h720v720H120Zm60-500h600v-160H180v160Zm220 220h160v-160H400v160Zm0 220h160v-160H400v160ZM180-400h160v-160H180v160Zm440 0h160v-160H620v160ZM180-180h160v-160H180v160Zm440 0h160v-160H620v160Z\"/>\n",
              "  </svg>\n",
              "    </button>\n",
              "\n",
              "  <style>\n",
              "    .colab-df-container {\n",
              "      display:flex;\n",
              "      gap: 12px;\n",
              "    }\n",
              "\n",
              "    .colab-df-convert {\n",
              "      background-color: #E8F0FE;\n",
              "      border: none;\n",
              "      border-radius: 50%;\n",
              "      cursor: pointer;\n",
              "      display: none;\n",
              "      fill: #1967D2;\n",
              "      height: 32px;\n",
              "      padding: 0 0 0 0;\n",
              "      width: 32px;\n",
              "    }\n",
              "\n",
              "    .colab-df-convert:hover {\n",
              "      background-color: #E2EBFA;\n",
              "      box-shadow: 0px 1px 2px rgba(60, 64, 67, 0.3), 0px 1px 3px 1px rgba(60, 64, 67, 0.15);\n",
              "      fill: #174EA6;\n",
              "    }\n",
              "\n",
              "    .colab-df-buttons div {\n",
              "      margin-bottom: 4px;\n",
              "    }\n",
              "\n",
              "    [theme=dark] .colab-df-convert {\n",
              "      background-color: #3B4455;\n",
              "      fill: #D2E3FC;\n",
              "    }\n",
              "\n",
              "    [theme=dark] .colab-df-convert:hover {\n",
              "      background-color: #434B5C;\n",
              "      box-shadow: 0px 1px 3px 1px rgba(0, 0, 0, 0.15);\n",
              "      filter: drop-shadow(0px 1px 2px rgba(0, 0, 0, 0.3));\n",
              "      fill: #FFFFFF;\n",
              "    }\n",
              "  </style>\n",
              "\n",
              "    <script>\n",
              "      const buttonEl =\n",
              "        document.querySelector('#df-03eff9f3-7153-4517-80a6-6e23c733959b button.colab-df-convert');\n",
              "      buttonEl.style.display =\n",
              "        google.colab.kernel.accessAllowed ? 'block' : 'none';\n",
              "\n",
              "      async function convertToInteractive(key) {\n",
              "        const element = document.querySelector('#df-03eff9f3-7153-4517-80a6-6e23c733959b');\n",
              "        const dataTable =\n",
              "          await google.colab.kernel.invokeFunction('convertToInteractive',\n",
              "                                                    [key], {});\n",
              "        if (!dataTable) return;\n",
              "\n",
              "        const docLinkHtml = 'Like what you see? Visit the ' +\n",
              "          '<a target=\"_blank\" href=https://colab.research.google.com/notebooks/data_table.ipynb>data table notebook</a>'\n",
              "          + ' to learn more about interactive tables.';\n",
              "        element.innerHTML = '';\n",
              "        dataTable['output_type'] = 'display_data';\n",
              "        await google.colab.output.renderOutput(dataTable, element);\n",
              "        const docLink = document.createElement('div');\n",
              "        docLink.innerHTML = docLinkHtml;\n",
              "        element.appendChild(docLink);\n",
              "      }\n",
              "    </script>\n",
              "  </div>\n",
              "\n",
              "\n",
              "<div id=\"df-96ac3888-6f56-4a8c-8ddd-b59dbb37cdae\">\n",
              "  <button class=\"colab-df-quickchart\" onclick=\"quickchart('df-96ac3888-6f56-4a8c-8ddd-b59dbb37cdae')\"\n",
              "            title=\"Suggest charts.\"\n",
              "            style=\"display:none;\">\n",
              "\n",
              "<svg xmlns=\"http://www.w3.org/2000/svg\" height=\"24px\"viewBox=\"0 0 24 24\"\n",
              "     width=\"24px\">\n",
              "    <g>\n",
              "        <path d=\"M19 3H5c-1.1 0-2 .9-2 2v14c0 1.1.9 2 2 2h14c1.1 0 2-.9 2-2V5c0-1.1-.9-2-2-2zM9 17H7v-7h2v7zm4 0h-2V7h2v10zm4 0h-2v-4h2v4z\"/>\n",
              "    </g>\n",
              "</svg>\n",
              "  </button>\n",
              "\n",
              "<style>\n",
              "  .colab-df-quickchart {\n",
              "      --bg-color: #E8F0FE;\n",
              "      --fill-color: #1967D2;\n",
              "      --hover-bg-color: #E2EBFA;\n",
              "      --hover-fill-color: #174EA6;\n",
              "      --disabled-fill-color: #AAA;\n",
              "      --disabled-bg-color: #DDD;\n",
              "  }\n",
              "\n",
              "  [theme=dark] .colab-df-quickchart {\n",
              "      --bg-color: #3B4455;\n",
              "      --fill-color: #D2E3FC;\n",
              "      --hover-bg-color: #434B5C;\n",
              "      --hover-fill-color: #FFFFFF;\n",
              "      --disabled-bg-color: #3B4455;\n",
              "      --disabled-fill-color: #666;\n",
              "  }\n",
              "\n",
              "  .colab-df-quickchart {\n",
              "    background-color: var(--bg-color);\n",
              "    border: none;\n",
              "    border-radius: 50%;\n",
              "    cursor: pointer;\n",
              "    display: none;\n",
              "    fill: var(--fill-color);\n",
              "    height: 32px;\n",
              "    padding: 0;\n",
              "    width: 32px;\n",
              "  }\n",
              "\n",
              "  .colab-df-quickchart:hover {\n",
              "    background-color: var(--hover-bg-color);\n",
              "    box-shadow: 0 1px 2px rgba(60, 64, 67, 0.3), 0 1px 3px 1px rgba(60, 64, 67, 0.15);\n",
              "    fill: var(--button-hover-fill-color);\n",
              "  }\n",
              "\n",
              "  .colab-df-quickchart-complete:disabled,\n",
              "  .colab-df-quickchart-complete:disabled:hover {\n",
              "    background-color: var(--disabled-bg-color);\n",
              "    fill: var(--disabled-fill-color);\n",
              "    box-shadow: none;\n",
              "  }\n",
              "\n",
              "  .colab-df-spinner {\n",
              "    border: 2px solid var(--fill-color);\n",
              "    border-color: transparent;\n",
              "    border-bottom-color: var(--fill-color);\n",
              "    animation:\n",
              "      spin 1s steps(1) infinite;\n",
              "  }\n",
              "\n",
              "  @keyframes spin {\n",
              "    0% {\n",
              "      border-color: transparent;\n",
              "      border-bottom-color: var(--fill-color);\n",
              "      border-left-color: var(--fill-color);\n",
              "    }\n",
              "    20% {\n",
              "      border-color: transparent;\n",
              "      border-left-color: var(--fill-color);\n",
              "      border-top-color: var(--fill-color);\n",
              "    }\n",
              "    30% {\n",
              "      border-color: transparent;\n",
              "      border-left-color: var(--fill-color);\n",
              "      border-top-color: var(--fill-color);\n",
              "      border-right-color: var(--fill-color);\n",
              "    }\n",
              "    40% {\n",
              "      border-color: transparent;\n",
              "      border-right-color: var(--fill-color);\n",
              "      border-top-color: var(--fill-color);\n",
              "    }\n",
              "    60% {\n",
              "      border-color: transparent;\n",
              "      border-right-color: var(--fill-color);\n",
              "    }\n",
              "    80% {\n",
              "      border-color: transparent;\n",
              "      border-right-color: var(--fill-color);\n",
              "      border-bottom-color: var(--fill-color);\n",
              "    }\n",
              "    90% {\n",
              "      border-color: transparent;\n",
              "      border-bottom-color: var(--fill-color);\n",
              "    }\n",
              "  }\n",
              "</style>\n",
              "\n",
              "  <script>\n",
              "    async function quickchart(key) {\n",
              "      const quickchartButtonEl =\n",
              "        document.querySelector('#' + key + ' button');\n",
              "      quickchartButtonEl.disabled = true;  // To prevent multiple clicks.\n",
              "      quickchartButtonEl.classList.add('colab-df-spinner');\n",
              "      try {\n",
              "        const charts = await google.colab.kernel.invokeFunction(\n",
              "            'suggestCharts', [key], {});\n",
              "      } catch (error) {\n",
              "        console.error('Error during call to suggestCharts:', error);\n",
              "      }\n",
              "      quickchartButtonEl.classList.remove('colab-df-spinner');\n",
              "      quickchartButtonEl.classList.add('colab-df-quickchart-complete');\n",
              "    }\n",
              "    (() => {\n",
              "      let quickchartButtonEl =\n",
              "        document.querySelector('#df-96ac3888-6f56-4a8c-8ddd-b59dbb37cdae button');\n",
              "      quickchartButtonEl.style.display =\n",
              "        google.colab.kernel.accessAllowed ? 'block' : 'none';\n",
              "    })();\n",
              "  </script>\n",
              "</div>\n",
              "    </div>\n",
              "  </div>\n"
            ]
          },
          "metadata": {},
          "execution_count": 3
        }
      ],
      "source": [
        "pima.describe()"
      ]
    },
    {
      "cell_type": "markdown",
      "metadata": {
        "id": "Ql6NNhLRZvn5"
      },
      "source": [
        "To see how many 0 values there are in these fields, we can sum the number of rows which match this criteria. The two fields with the most missing values are `SkinThickness` and `Insulin`."
      ]
    },
    {
      "cell_type": "code",
      "execution_count": 4,
      "metadata": {
        "colab": {
          "base_uri": "https://localhost:8080/"
        },
        "id": "FYg3eXmeZvn6",
        "outputId": "3c3418f9-5650-4282-c035-6727510d1f81"
      },
      "outputs": [
        {
          "output_type": "stream",
          "name": "stdout",
          "text": [
            "Glucose            5\n",
            "BloodPressure     35\n",
            "SkinThickness    227\n",
            "Insulin          374\n",
            "BMI               11\n",
            "dtype: int64\n"
          ]
        }
      ],
      "source": [
        "print((pima[['Glucose', 'BloodPressure', 'SkinThickness', 'Insulin', 'BMI']] == 0).sum())"
      ]
    },
    {
      "cell_type": "markdown",
      "metadata": {
        "id": "PXXNDm-PZvn6"
      },
      "source": [
        "Since 0 is a valid entry in `Pregnancies` and `Outcome`, we mark the missing values as NaN (not a number). This is the default for missing values for the sklearn imputation routines. Marking the values as NaN gives the same number of missing entries as previously."
      ]
    },
    {
      "cell_type": "code",
      "execution_count": 5,
      "metadata": {
        "colab": {
          "base_uri": "https://localhost:8080/"
        },
        "id": "dHMUGPrzZvn6",
        "outputId": "45d59e26-2a37-43cc-d94c-d2dcb53207df"
      },
      "outputs": [
        {
          "output_type": "stream",
          "name": "stdout",
          "text": [
            "Pregnancies                   0\n",
            "Glucose                       5\n",
            "BloodPressure                35\n",
            "SkinThickness               227\n",
            "Insulin                     374\n",
            "BMI                          11\n",
            "DiabetesPedigreeFunction      0\n",
            "Age                           0\n",
            "Outcome                       0\n",
            "dtype: int64\n"
          ]
        }
      ],
      "source": [
        "pima[['Glucose', 'BloodPressure', 'SkinThickness', 'Insulin', 'BMI']] = \\\n",
        "    pima[['Glucose', 'BloodPressure', 'SkinThickness', 'Insulin', 'BMI']].replace(0, np.NaN)\n",
        "print(pima.isnull().sum())"
      ]
    },
    {
      "cell_type": "markdown",
      "metadata": {
        "id": "kbZFNyO7Zvn6"
      },
      "source": [
        "## Preliminary analysis"
      ]
    },
    {
      "cell_type": "markdown",
      "metadata": {
        "id": "hPwUz9-iZvn6"
      },
      "source": [
        "We now set up a simple random forest model to investigate the effect of a selection of different imputation methods on the accuracy, precision, recall and feature importance. Here the recall is the most significant metric, as we want to minimize false negatives (has diabetes, but not predicted). The function below creates a random forest model for the diabetes data, prints the metrics and feature importance in descending order."
      ]
    },
    {
      "cell_type": "code",
      "execution_count": 6,
      "metadata": {
        "id": "Kd28IU20Zvn6"
      },
      "outputs": [],
      "source": [
        "from sklearn.ensemble import RandomForestClassifier\n",
        "from sklearn.model_selection import train_test_split\n",
        "from sklearn.metrics import accuracy_score, precision_score, recall_score\n",
        "\n",
        "def rf_model(pimadf):\n",
        "    Xf = pimadf.drop(columns=['Outcome'])\n",
        "    Yf = np.ravel(pimadf[['Outcome']])\n",
        "\n",
        "    X_train, X_test, Y_train, Y_test = train_test_split(Xf, Yf, test_size=0.2, random_state=0)\n",
        "    rfc = RandomForestClassifier(random_state=0)\n",
        "    rfc.fit(X_train, Y_train) # fit the data to the model\n",
        "    Y_pred = rfc.predict(X_test)\n",
        "    acc = accuracy_score(Y_test,Y_pred)\n",
        "    prec = precision_score(Y_test,Y_pred)\n",
        "    rec = recall_score(Y_test,Y_pred)\n",
        "    print(\"\\n\")\n",
        "    print(\"Testing scores are: accuracy {0:5.3f}, precision {1:5.3f}, recall {2:5.3f}\" .format(acc,prec,rec))\n",
        "\n",
        "    feature_importances = pd.DataFrame(rfc.feature_importances_,\n",
        "                                   index = X_train.columns,\n",
        "                                    columns=['Importance']).sort_values('Importance', ascending=False)\n",
        "    print(\"\\n\")\n",
        "    print(feature_importances)\n"
      ]
    },
    {
      "cell_type": "code",
      "execution_count": 6,
      "metadata": {
        "id": "YKlWub22Zvn6"
      },
      "outputs": [],
      "source": []
    },
    {
      "cell_type": "markdown",
      "metadata": {
        "id": "s1C85F4AZvn6"
      },
      "source": [
        "The first example is to drop all rows which have a missing value. This results in approximately half of the dataset being dropped. For this data one of the most important features is `Insulin`, which is the feature with the most missing values."
      ]
    },
    {
      "cell_type": "code",
      "execution_count": 7,
      "metadata": {
        "colab": {
          "base_uri": "https://localhost:8080/"
        },
        "id": "cRsQVvuXZvn6",
        "outputId": "634d5340-4821-44ea-b7a0-599faebdd76b"
      },
      "outputs": [
        {
          "output_type": "stream",
          "name": "stdout",
          "text": [
            "Dropping rows\n",
            "\n",
            "\n",
            "Shape of array (392, 9)\n",
            "Shape of original array (768, 9)\n",
            "\n",
            "\n",
            "Testing scores are: accuracy 0.785, precision 0.682, recall 0.600\n",
            "\n",
            "\n",
            "                          Importance\n",
            "Glucose                     0.249054\n",
            "Insulin                     0.149633\n",
            "Age                         0.141292\n",
            "BMI                         0.118842\n",
            "DiabetesPedigreeFunction    0.113555\n",
            "SkinThickness               0.081439\n",
            "BloodPressure               0.075061\n",
            "Pregnancies                 0.071124\n"
          ]
        }
      ],
      "source": [
        "pima_drop = pima.copy()\n",
        "pima_drop.dropna(inplace=True)\n",
        "print('Dropping rows')\n",
        "print(\"\\n\")\n",
        "print('Shape of array',pima_drop.shape)\n",
        "print('Shape of original array',pima.shape)\n",
        "\n",
        "rf_model(pima_drop)"
      ]
    },
    {
      "cell_type": "markdown",
      "metadata": {
        "id": "Unb-Zyq5Zvn6"
      },
      "source": [
        "For reference we can plot the distribution of `Insulin` and `SkinThickness` to investigate how different imputation methods affect this. For the other features with missing values the distributions will not be significantly affected, and the exact imputation method probably is not critical to the model."
      ]
    },
    {
      "cell_type": "code",
      "execution_count": 8,
      "metadata": {
        "colab": {
          "base_uri": "https://localhost:8080/",
          "height": 393
        },
        "id": "fNNMCUoHZvn7",
        "outputId": "780e8785-ab6f-4033-d4b9-4c8aab6441f4"
      },
      "outputs": [
        {
          "output_type": "display_data",
          "data": {
            "text/plain": [
              "<Figure size 1000x400 with 2 Axes>"
            ],
            "image/png": "[encoded data removed]"
          },
          "metadata": {}
        }
      ],
      "source": [
        "fig, axes = plt.subplots(1, 2, figsize=(10,4))\n",
        "\n",
        "sns.histplot(pima_drop, x=\"Insulin\", stat=\"density\", ax = axes[0])\n",
        "sns.histplot(pima_drop, x=\"SkinThickness\", stat=\"density\", ax = axes[1])\n",
        "axes[1].set_xlim(0,100)\n",
        "axes[1].set_ylim(0,0.06);"
      ]
    },
    {
      "cell_type": "markdown",
      "metadata": {
        "id": "h4LKOA2zZvn7"
      },
      "source": [
        "Replacing the missing values with the mean or the median now results in an increase of all the metrics of the model, and the feature importance of `SkinThickness` and `Insulin` being ranked very low. This is understandable, as replacing the missing values with a constant results in the reduction of the variance of the feature."
      ]
    },
    {
      "cell_type": "code",
      "execution_count": 9,
      "metadata": {
        "colab": {
          "base_uri": "https://localhost:8080/"
        },
        "id": "9Zi-XAzEZvn7",
        "outputId": "afdafbb3-2aff-469c-f3cb-e317b8bd5c19"
      },
      "outputs": [
        {
          "output_type": "stream",
          "name": "stdout",
          "text": [
            "Imputation using mean\n",
            "\n",
            "\n",
            "Testing scores are: accuracy 0.805, precision 0.689, recall 0.660\n",
            "\n",
            "\n",
            "                          Importance\n",
            "Glucose                     0.247231\n",
            "BMI                         0.156630\n",
            "Age                         0.145328\n",
            "DiabetesPedigreeFunction    0.127873\n",
            "Insulin                     0.086596\n",
            "BloodPressure               0.084816\n",
            "Pregnancies                 0.080150\n",
            "SkinThickness               0.071375\n"
          ]
        }
      ],
      "source": [
        "pima_mean = pima.copy()\n",
        "pima_mean.fillna(pima_mean.mean(), inplace=True)\n",
        "\n",
        "print('Imputation using mean')\n",
        "rf_model(pima_mean)"
      ]
    },
    {
      "cell_type": "code",
      "execution_count": 10,
      "metadata": {
        "colab": {
          "base_uri": "https://localhost:8080/"
        },
        "id": "rVrgRp7ZZvn7",
        "outputId": "a68f6de4-ffb0-4f70-d559-d81837ea9c7a"
      },
      "outputs": [
        {
          "output_type": "stream",
          "name": "stdout",
          "text": [
            "Imputation using median\n",
            "\n",
            "\n",
            "Testing scores are: accuracy 0.812, precision 0.696, recall 0.681\n",
            "\n",
            "\n",
            "                          Importance\n",
            "Glucose                     0.247677\n",
            "BMI                         0.159408\n",
            "Age                         0.144171\n",
            "DiabetesPedigreeFunction    0.128357\n",
            "Insulin                     0.085797\n",
            "BloodPressure               0.084323\n",
            "Pregnancies                 0.078018\n",
            "SkinThickness               0.072250\n"
          ]
        }
      ],
      "source": [
        "pima_median = pima.copy()\n",
        "pima_median.fillna(pima_mean.median(), inplace=True)\n",
        "\n",
        "print('Imputation using median')\n",
        "rf_model(pima_median)"
      ]
    },
    {
      "cell_type": "markdown",
      "metadata": {
        "id": "E3ZqB-ooZvn7"
      },
      "source": [
        "This reduction in variance can be clearly seen by plotting the distributions of the mean and median datasets. For both, the plots are now dominated by a single peak."
      ]
    },
    {
      "cell_type": "code",
      "execution_count": 11,
      "metadata": {
        "colab": {
          "base_uri": "https://localhost:8080/",
          "height": 622
        },
        "id": "MJEI2PLfZvn7",
        "outputId": "ff789059-9f95-4fb1-ac81-13e68d8acfcc"
      },
      "outputs": [
        {
          "output_type": "display_data",
          "data": {
            "text/plain": [
              "<Figure size 1000x700 with 4 Axes>"
            ],
            "image/png": "[encoded data removed]"
          },
          "metadata": {}
        }
      ],
      "source": [
        "fig, axes = plt.subplots(2, 2, figsize=(10,7))\n",
        "\n",
        "sns.histplot(pima_mean, x=\"Insulin\", stat=\"density\", ax = axes[0,0])\n",
        "axes[0,0].set_xlabel('Insulin - Mean')\n",
        "sns.histplot(pima_median, x=\"Insulin\", stat=\"density\", ax = axes[1,0])\n",
        "axes[1,0].set_xlabel('Insulin - Median')\n",
        "sns.histplot(pima_mean, x=\"SkinThickness\", stat=\"density\", ax = axes[0,1])\n",
        "axes[0,1].set_xlabel('SkinThickness - Mean')\n",
        "sns.histplot(pima_median, x=\"SkinThickness\", stat=\"density\", ax = axes[1,1])\n",
        "axes[1,1].set_xlabel('SkinThickness - Median');"
      ]
    },
    {
      "cell_type": "markdown",
      "metadata": {
        "id": "_AzJXGo2Zvn7"
      },
      "source": [
        "The first machine learning imputer we consider is the k-Nearest Neighbours imputer. This iterates through all the missing values, treating each one as a label, and then finds the corresponding label of its k-Nearest Neighbours. This will be affected by the distance metric that is used, the number of neighbours and the order that the features are imputed. In this case we use the default values and 5 neighbours.\n",
        "\n",
        "The accuracy is slightly higher than for the dataset where we dropped the rows, and similar to using the mean and median. However, the ranking of features is more consistent with the original dataset, especially for `Insulin` and `SkinThickness`."
      ]
    },
    {
      "cell_type": "code",
      "execution_count": 12,
      "metadata": {
        "colab": {
          "base_uri": "https://localhost:8080/"
        },
        "id": "DZBMVKEnZvn7",
        "outputId": "83db3bf5-6ef1-4478-d822-6333a0bee01b"
      },
      "outputs": [
        {
          "output_type": "stream",
          "name": "stdout",
          "text": [
            "Imputation using k-Nearest Neighbours\n",
            "\n",
            "\n",
            "Testing scores are: accuracy 0.805, precision 0.698, recall 0.638\n",
            "\n",
            "\n",
            "                          Importance\n",
            "Glucose                     0.213634\n",
            "Insulin                     0.151706\n",
            "BMI                         0.145919\n",
            "Age                         0.131440\n",
            "DiabetesPedigreeFunction    0.113637\n",
            "SkinThickness               0.098912\n",
            "BloodPressure               0.072798\n",
            "Pregnancies                 0.071954\n"
          ]
        }
      ],
      "source": [
        "from sklearn.impute import KNNImputer\n",
        "\n",
        "pima_knnn = pima.copy()\n",
        "X = pima_knnn.iloc[:,0:8]\n",
        "Xm = X.mean()\n",
        "Xs = X.std()\n",
        "X = (X-X.mean())/X.std()\n",
        "Xt = KNNImputer(n_neighbors=5).fit_transform(X)\n",
        "pima_knnn.iloc[:,0:8] = Xt\n",
        "\n",
        "print('Imputation using k-Nearest Neighbours')\n",
        "pima_knnn.iloc[:,0:8] = Xs*pima_knnn.iloc[:,0:8]+Xm\n",
        "rf_model(pima_knnn)"
      ]
    },
    {
      "cell_type": "markdown",
      "metadata": {
        "id": "5H9cn6HQZvn7"
      },
      "source": [
        "The second method we consider is the sklearn `IterativeImputer`. This is an experimental addition to sklearn, so needs to be enabled as well as imported. As it is experimental, it may change in future versions.\n",
        "\n",
        "`IterativeImputer` works be marking the missing values, and then repeating the imputation process N times or until the data converges. Initially the missing values are set using a simple scheme, such as being replaced by the mean or median. Then on each iteration a machine learning algorithm is used as a regressor to update each column which is marked as having missing values. The non-missing values are used to train the model, and then the model is used to predict the missing values. Any regression technique could be used to predict the missing values. Common ones that are used are BayesianRidge, k-Nearest Neighbours and Random Forest Regression. Using this algorithm with Random Forest Regression is equivalent to the R routine `missForest`. The routine `KNNImputer` is equivalent to `IterativeImputer` with one iteration.\n",
        "\n",
        "In this example, we use the default algorithm, BayesianRidge. This gives that compared to the original dataset the accuracy and precision decreasel but the recall increases, however the feature importance is consistent with the original dataset and the results of `KNNImputer`."
      ]
    },
    {
      "cell_type": "code",
      "execution_count": 13,
      "metadata": {
        "colab": {
          "base_uri": "https://localhost:8080/"
        },
        "id": "SmDQsO8YZvn7",
        "outputId": "dbe30dc8-94af-4208-83c0-79864a9d3fc7"
      },
      "outputs": [
        {
          "output_type": "stream",
          "name": "stdout",
          "text": [
            "Iterative imputation using Bayesian Ridge\n",
            "\n",
            "\n",
            "Testing scores are: accuracy 0.773, precision 0.630, recall 0.617\n",
            "\n",
            "\n",
            "                          Importance\n",
            "Glucose                     0.207493\n",
            "Insulin                     0.165304\n",
            "BMI                         0.139473\n",
            "Age                         0.126682\n",
            "DiabetesPedigreeFunction    0.112677\n",
            "SkinThickness               0.102626\n",
            "BloodPressure               0.074122\n",
            "Pregnancies                 0.071623\n"
          ]
        }
      ],
      "source": [
        "from sklearn.experimental import enable_iterative_imputer\n",
        "from sklearn.impute import IterativeImputer\n",
        "\n",
        "pima_ii = pima.copy()\n",
        "X = pima_ii.iloc[:,0:8]\n",
        "Xm = X.mean()\n",
        "Xs = X.std()\n",
        "X = (X-X.mean())/X.std()\n",
        "Xt = IterativeImputer(max_iter=20, random_state=0).fit_transform(X)\n",
        "pima_ii.iloc[:,0:8] = Xt\n",
        "\n",
        "print('Iterative imputation using Bayesian Ridge')\n",
        "pima_ii.iloc[:,0:8] = Xs*pima_ii.iloc[:,0:8]+Xm\n",
        "rf_model(pima_ii)"
      ]
    },
    {
      "cell_type": "markdown",
      "metadata": {
        "id": "hXMCxEOVZvn8"
      },
      "source": [
        "Plotting the distributions shows that the `KNNImputer` and `IterativeImputer` gives similar results for `Insulin`, but that `IterativeImputer` seems to give a distribution which is more consistent with the original dataset for `SkinThickness`."
      ]
    },
    {
      "cell_type": "code",
      "execution_count": 14,
      "metadata": {
        "colab": {
          "base_uri": "https://localhost:8080/",
          "height": 855
        },
        "id": "uZMfLzpDZvn8",
        "outputId": "81c2d4b8-2dd0-46ab-d29b-13f2218cb0cf"
      },
      "outputs": [
        {
          "output_type": "display_data",
          "data": {
            "text/plain": [
              "<Figure size 1000x1000 with 6 Axes>"
            ],
            "image/png": "[encoded data removed]"
          },
          "metadata": {}
        }
      ],
      "source": [
        "fig, axes = plt.subplots(3, 2, figsize=(10,10))\n",
        "\n",
        "sns.histplot(pima_drop, x=\"Insulin\", stat=\"density\", ax = axes[0,0])\n",
        "axes[0,0].set_xlabel('Insulin - Drop Rows')\n",
        "sns.histplot(pima_knnn, x=\"Insulin\", stat=\"density\", ax = axes[1,0])\n",
        "axes[1,0].set_xlabel('Insulin - kNN')\n",
        "sns.histplot(pima_ii, x=\"Insulin\", stat=\"density\", ax = axes[2,0])\n",
        "axes[2,0].set_xlabel('Insulin - Iterative Imputer')\n",
        "sns.histplot(pima_drop, x=\"SkinThickness\", stat=\"density\", ax = axes[0,1])\n",
        "axes[0,1].set_xlabel('SkinThickness - Drop Rows')\n",
        "axes[0,1].set_xlim(0,100)\n",
        "axes[0,1].set_ylim(0,0.06)\n",
        "sns.histplot(pima_knnn, x=\"SkinThickness\", stat=\"density\", ax = axes[1,1])\n",
        "axes[1,1].set_xlabel('SkinThickness - kNN')\n",
        "axes[1,1].set_xlim(0,100)\n",
        "axes[1,1].set_ylim(0,0.06)\n",
        "sns.histplot(pima_ii, x=\"SkinThickness\", stat=\"density\", ax = axes[2,1])\n",
        "axes[2,1].set_xlabel('SkinThickness - Iterative Imputer')\n",
        "axes[2,1].set_xlim(0,100)\n",
        "axes[2,1].set_ylim(0,0.06);\n"
      ]
    },
    {
      "cell_type": "markdown",
      "metadata": {
        "id": "wtIwCy8oZvn8"
      },
      "source": [
        "## Cross-validation analysis"
      ]
    },
    {
      "cell_type": "markdown",
      "metadata": {
        "id": "leyYlXKWZvn8"
      },
      "source": [
        "For all the examples so far we have only considered one realisation of the Random Forest Regressor. To understand the effectiveness of the various imputation algorithms we need to combine this with cross validation. The following code considers the variation of the recall using Logistic Regression for the imputation strategies:\n",
        "* Drop rows with missing values.\n",
        "* Simple imputation using the mean.\n",
        "* Simple imputation using the median.\n",
        "* k-Nearest Neighbours imputation.\n",
        "* Iterative imputation using:\n",
        "    * BayesianRidge,\n",
        "    * DecisionTreeRegressor,\n",
        "    * RandomForestRegressor,\n",
        "    * k-Nearest Neighbours Regression.\n",
        "    \n",
        "The individual scores for each run are stored in a dataframe, for which we can finally investigate the descriptive statistics."
      ]
    },
    {
      "cell_type": "code",
      "execution_count": 15,
      "metadata": {
        "id": "56x88yGqZvn8"
      },
      "outputs": [],
      "source": [
        "from sklearn.model_selection import cross_val_score\n",
        "from sklearn.linear_model import LogisticRegression\n",
        "from sklearn.model_selection import RepeatedKFold\n",
        "\n",
        "N_SPLITS = RepeatedKFold(n_splits=5, n_repeats=3, random_state=1)\n",
        "classifier = LogisticRegression(solver='newton-cg', C=1.e3)\n",
        "score = 'recall'\n",
        "\n",
        "X_full = pima_drop.drop(columns=['Outcome'])\n",
        "Y_full = np.ravel(pima_drop[['Outcome']])\n",
        "\n",
        "score_drop = pd.DataFrame(\n",
        "    cross_val_score(\n",
        "        classifier, X_full, Y_full, scoring=score, cv=N_SPLITS\n",
        "    ),\n",
        "    columns=['Drop Data']\n",
        ")"
      ]
    },
    {
      "cell_type": "code",
      "execution_count": null,
      "metadata": {
        "id": "6LdmCOWHZvn8"
      },
      "outputs": [],
      "source": [
        "from sklearn.impute import SimpleImputer\n",
        "from sklearn.pipeline import make_pipeline\n",
        "\n",
        "# Estimate the score after imputation (mean and median strategies)\n",
        "X_missing = pima.drop(columns=['Outcome'])\n",
        "Y_missing = np.ravel(pima[['Outcome']])\n",
        "\n",
        "score_simple_imputer = pd.DataFrame()\n",
        "for strategy in ('mean', 'median'):\n",
        "    estimator = make_pipeline(\n",
        "        SimpleImputer(missing_values=np.nan, strategy=strategy),\n",
        "        classifier\n",
        "    )\n",
        "    score_simple_imputer[strategy] = cross_val_score(\n",
        "        estimator, X_missing, Y_missing, scoring=score, cv=N_SPLITS\n",
        "    )\n"
      ]
    },
    {
      "cell_type": "code",
      "execution_count": null,
      "metadata": {
        "id": "oZFbb5UqZvn8"
      },
      "outputs": [],
      "source": [
        "from sklearn.impute import KNNImputer\n",
        "\n",
        "score_knn_imputer = pd.DataFrame()\n",
        "estimator = make_pipeline(\n",
        "    KNNImputer(n_neighbors=15),\n",
        "    classifier\n",
        ")\n",
        "score_knn_imputer['KNeighborsRegressor'] = cross_val_score(\n",
        "        estimator, X_missing, Y_missing, scoring=score, cv=N_SPLITS\n",
        ")\n"
      ]
    },
    {
      "cell_type": "code",
      "execution_count": null,
      "metadata": {
        "id": "yYR5jXnjZvn9"
      },
      "outputs": [],
      "source": [
        "from sklearn.linear_model import BayesianRidge\n",
        "from sklearn.tree import DecisionTreeRegressor\n",
        "from sklearn.ensemble import RandomForestRegressor\n",
        "from sklearn.neighbors import KNeighborsRegressor\n",
        "\n",
        "estimators = [\n",
        "    BayesianRidge(),\n",
        "    DecisionTreeRegressor(random_state=0),\n",
        "    RandomForestRegressor(random_state=0),\n",
        "    KNeighborsRegressor(n_neighbors=15)\n",
        "]\n",
        "score_iterative_imputer = pd.DataFrame()\n",
        "for impute_estimator in estimators:\n",
        "    estimator = make_pipeline(\n",
        "        IterativeImputer(random_state=0, estimator=impute_estimator, max_iter=10),\n",
        "        classifier\n",
        "    )\n",
        "    score_iterative_imputer[impute_estimator.__class__.__name__] = \\\n",
        "        cross_val_score(\n",
        "            estimator, X_missing, Y_missing, scoring=score, cv=N_SPLITS\n",
        "        )\n"
      ]
    },
    {
      "cell_type": "markdown",
      "metadata": {
        "id": "h8bB7xeGZvn9"
      },
      "source": [
        "We can now investigate the descriptive statistics for each imputation method in tabular and graphical format. The green dots in the figure represent the mean values for each method.\n",
        "\n",
        "The first thing to note is that by using imputation with the full dataset, the variance of the model has been reduced significantly, which suggests that the `Drop Data` model suffers from overfitting. This is consistent with the fact that one way to reduce overfitting is to increase the amount of data. In general, as the complexity of the imputer is increased the accuracy also increases, though the result is dependent on the underlying strategy.\n",
        "\n",
        "For this example, the best methods, i.e., those with the highest mean and lowest variance, for imputation seem to:\n",
        "* kNN imputer.\n",
        "* Iterative imputation using BayesianRidge.\n",
        "    \n",
        "As with all modelling, the final strategy for imputation depends on the model that you use, and should be decided on after extensive initial testing."
      ]
    },
    {
      "cell_type": "code",
      "execution_count": null,
      "metadata": {
        "id": "zkSqfoEPZvn9"
      },
      "outputs": [],
      "source": [
        "scores = pd.concat(\n",
        "    [score_drop, score_simple_imputer, score_knn_imputer, score_iterative_imputer],\n",
        "    keys=['Original', 'SimpleImputer', 'KNN', 'IterativeImputer'], axis=1\n",
        ")\n",
        "\n",
        "scores.describe()"
      ]
    },
    {
      "cell_type": "code",
      "execution_count": null,
      "metadata": {
        "id": "uJFvYEuUZvn9"
      },
      "outputs": [],
      "source": [
        "# plot results\n",
        "fig, ax = plt.subplots(figsize=(13, 6))\n",
        "scores.plot.box(showmeans=True, vert=False, ax=ax)\n",
        "ax.set_title('Pima Indian Diabetes Classification with Different Imputation Methods')\n",
        "ax.set_xlabel('Accuracy (larger is better)')\n",
        "plt.show()"
      ]
    },
    {
      "cell_type": "markdown",
      "metadata": {
        "id": "bmDxvliWZvn9"
      },
      "source": [
        "## Exercises"
      ]
    },
    {
      "cell_type": "markdown",
      "metadata": {
        "id": "BKEgR3-vZvn9"
      },
      "source": [
        "For the exercises we will use the [Abalone Dataset](https://archive.ics.uci.edu/ml/datasets/Abalone), which can be downloaded from [Monash Gitlab](https://gitlab.erc.monash.edu.au/bads/data-challenges-resources/-/tree/main/Machine-Learning/Imputation/abalone.csv). This consists of physical measurements of abalones from the Tasmanian coast in the 1990s, in an effort to determine their age. Previously the age would need to be determined in the laboratory by counting the number of rings in the shell. Then $Age = Rings + 1.5$. This is a complete dataset, however we will randomly remove entries in two columns to perform imputation.\n",
        "\n",
        "First we load the dataset."
      ]
    },
    {
      "cell_type": "code",
      "execution_count": null,
      "metadata": {
        "id": "bhcUJo1eZvn9"
      },
      "outputs": [],
      "source": [
        "abalone = pd.read_csv(\"abalone.csv\")\n",
        "abalone.head()"
      ]
    },
    {
      "cell_type": "markdown",
      "metadata": {
        "id": "7A7DxgFhZvn9"
      },
      "source": [
        "The `Sex` field has three categorical entries: Male (M), Female (F) and Infant (I). Se we need to one-hot encode these fields to create three binary columns."
      ]
    },
    {
      "cell_type": "code",
      "execution_count": null,
      "metadata": {
        "id": "sZyAna5tZvn9"
      },
      "outputs": [],
      "source": [
        "dummy = pd.get_dummies(abalone['Sex'])\n",
        "abalone = pd.concat([abalone, dummy], axis=1)\n",
        "abalone.drop(columns=['Sex'], inplace=True)\n",
        "abalone.head()"
      ]
    },
    {
      "cell_type": "markdown",
      "metadata": {
        "id": "oy_Z-hHGZvn9"
      },
      "source": [
        "Last we create a features array (Xf) and a label array (Yf). Then we randomly remove 33% of the `Height` samples and 25% of the `Shell weight` samples from the features array."
      ]
    },
    {
      "cell_type": "code",
      "execution_count": null,
      "metadata": {
        "id": "Jmv2w4KeZvn9"
      },
      "outputs": [],
      "source": [
        "Xf = abalone.drop(columns=['Rings'])\n",
        "Yf = abalone[['Rings']]\n",
        "\n",
        "X = Xf.copy()\n",
        "X['Height'] = X['Height'].sample(frac=0.67)\n",
        "X['Shell weight'] = X['Shell weight'].sample(frac=0.75)\n",
        "\n",
        "X.describe()"
      ]
    },
    {
      "cell_type": "markdown",
      "metadata": {
        "id": "Te6zj302Zvn-"
      },
      "source": [
        "### Exercise 1 (2 marks)"
      ]
    },
    {
      "cell_type": "markdown",
      "metadata": {
        "id": "Q0ic30weZvn-"
      },
      "source": [
        "Create a Random Forest Regressor model for the full dataset and determine the accuracy of this model. Use an 80:20 split for training and testing."
      ]
    },
    {
      "cell_type": "code",
      "execution_count": null,
      "metadata": {
        "id": "2yhRqEqEZvn-"
      },
      "outputs": [],
      "source": [
        "from sklearn.metrics import r2_score\n",
        "from sklearn.ensemble import RandomForestClassifier\n",
        "from sklearn.model_selection import train_test_split\n",
        "from sklearn.metrics import accuracy_score, precision_score, recall_score\n",
        "\n",
        "from sklearn.metrics import r2_score\n",
        "\n",
        "Xf = abalone.drop(columns=['Rings'])\n",
        "Yf = abalone[['Rings']]\n",
        "\n",
        "X_train, X_test, Y_train, Y_test = train_test_split(Xf, Yf, test_size=0.2, random_state=0)\n",
        "rfc = RandomForestRegressor()\n",
        "rfc.fit(X_train, Y_train) # fit the data to the model\n",
        "Y_pred = rfc.predict(X_test)\n",
        "acc = r2_score(Y_test,Y_pred)\n",
        "print(\"Testing score is %5.3f\" % acc)"
      ]
    },
    {
      "cell_type": "markdown",
      "metadata": {
        "id": "phFJ-mFwZvn-"
      },
      "source": [
        "### Exercise 2 (3 marks)"
      ]
    },
    {
      "cell_type": "markdown",
      "metadata": {
        "id": "zhpubc0FZvn-"
      },
      "source": [
        "Fill in the missing values of X using `IterativeImputer` with 10 iterations and using the `BayesianRidge` regressor. Calculate the accuracy of the Random Forest Regressor using this imputed dataset."
      ]
    },
    {
      "cell_type": "code",
      "execution_count": null,
      "metadata": {
        "id": "tXNRiTorZvn-"
      },
      "outputs": [],
      "source": []
    },
    {
      "cell_type": "code",
      "execution_count": null,
      "metadata": {
        "id": "veaW33LZZvn-"
      },
      "outputs": [],
      "source": [
        "Xt = IterativeImputer(random_state=0, max_iter=10).fit_transform(X)\n",
        "\n",
        "X_train, X_test, Y_train, Y_test = train_test_split(Xt, Yf, test_size=0.2, random_state=0)\n",
        "rfc = RandomForestRegressor()\n",
        "rfc.fit(X_train, Y_train) # fit the data to the model\n",
        "Y_pred = rfc.predict(X_test)\n",
        "acc = r2_score(Y_test,Y_pred)\n",
        "print(\"Testing score is %5.3f\" % acc)"
      ]
    },
    {
      "cell_type": "markdown",
      "metadata": {
        "id": "JBCpaskRZvn-"
      },
      "source": [
        "### Exercise 3 (5 marks)"
      ]
    },
    {
      "cell_type": "markdown",
      "metadata": {
        "id": "0iEPTKKnZvn-"
      },
      "source": [
        "Fill in the missing values of X using `IterativeImputer` with 10 iterations and using `KNeighborsRegressor` for 5, 10, 15 and 20 neighbours. Calculate the accuracy of the Random Forest Regressor using each of these imputed datasets."
      ]
    },
    {
      "cell_type": "code",
      "execution_count": null,
      "metadata": {
        "id": "kRL2HYseZvn-"
      },
      "outputs": [],
      "source": [
        "for n in (5, 10, 15, 20):\n",
        "    Xt = IterativeImputer(estimator=KNeighborsRegressor(n_neighbors=n),\n",
        "                      random_state=0, max_iter=10).fit_transform(X)\n",
        "\n",
        "    X_train, X_test, Y_train, Y_test = train_test_split(Xt, Yf, test_size=0.2, random_state=0)\n",
        "    rfc = RandomForestRegressor()\n",
        "    rfc.fit(X_train, Y_train) # fit the data to the model\n",
        "    Y_pred = rfc.predict(X_test)\n",
        "    acc = r2_score(Y_test,Y_pred)\n",
        "    print(\"Neighbours\",n)\n",
        "    print(\"Testing score is %5.3f\" % acc)"
      ]
    },
    {
      "cell_type": "markdown",
      "metadata": {
        "id": "GgWV-stLZvn-"
      },
      "source": [
        "### Generative AI Acknowledgement\n",
        "\n",
        "If you used generative AI to assist you with these excercises, document your use below following the guidelines here: https://www.monash.edu/learnhq/build-digital-capabilities/create-online/acknowledging-the-use-of-generative-artificial-intelligence"
      ]
    },
    {
      "cell_type": "code",
      "execution_count": null,
      "metadata": {
        "id": "-bVHnI5FZvn-"
      },
      "outputs": [],
      "source": []
    },
    {
      "cell_type": "code",
      "execution_count": null,
      "metadata": {
        "id": "mK3a5H93Zvn-"
      },
      "outputs": [],
      "source": []
    }
  ],
  "metadata": {
    "kernelspec": {
      "display_name": "Python 3 (ipykernel)",
      "language": "python",
      "name": "python3"
    },
    "language_info": {
      "codemirror_mode": {
        "name": "ipython",
        "version": 3
      },
      "file_extension": ".py",
      "mimetype": "text/x-python",
      "name": "python",
      "nbconvert_exporter": "python",
      "pygments_lexer": "ipython3",
      "version": "3.9.7"
    },
    "colab": {
      "provenance": [],
      "include_colab_link": true
    }
  },
  "nbformat": 4,
  "nbformat_minor": 0
}