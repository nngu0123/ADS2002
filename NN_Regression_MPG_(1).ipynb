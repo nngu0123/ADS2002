{
  "cells": [
    {
      "cell_type": "markdown",
      "metadata": {
        "id": "view-in-github",
        "colab_type": "text"
      },
      "source": [
        "<a href=\"https://colab.research.google.com/github/nngu0123/ADS2002/blob/main/NN_Regression_MPG_(1).ipynb\" target=\"_parent\"><img src=\"https://colab.research.google.com/assets/colab-badge.svg\" alt=\"Open In Colab\"/></a>"
      ]
    },
    {
      "cell_type": "markdown",
      "metadata": {
        "id": "EIdT9iu_Z4Rb"
      },
      "source": [
        "# Regression using Neural Networks"
      ]
    },
    {
      "cell_type": "markdown",
      "metadata": {
        "id": "Q1UqvD8kANbp"
      },
      "source": [
        "In the previous notebooks on neural networks we have considered classification problems. Regression problems, where the output is a continuous value, can also be handled using neural networks. To demonstrate this we will use the classic [Auto MPG Dataset](https://archive.ics.uci.edu/ml/datasets/auto+mpg) to build a model to predict the fuel efficiency of 1970s and early 1980s automobiles. This datasets describes fuel efficiency of many cars from that period. This description includes attributes such as: engine cylinders, engine displacement, horsepower, and weight.\n",
        "\n",
        "We will show how linear regression can be implemented using neural networks, and then consider some simple nonlinear regression models."
      ]
    },
    {
      "cell_type": "markdown",
      "metadata": {
        "id": "Gm5o-dYPCH0M"
      },
      "source": [
        "## Contents"
      ]
    },
    {
      "cell_type": "markdown",
      "metadata": {
        "id": "dRcUB5eiCMG8"
      },
      "source": [
        "* Imports\n",
        "* The Auto MPG Dataset\n",
        "* Linear Regression\n",
        "* Nonlinear Regression\n",
        "* Model Performance\n",
        "* Exercises"
      ]
    },
    {
      "cell_type": "markdown",
      "metadata": {
        "id": "5ZZcnvhZhq79"
      },
      "source": [
        "## Imports"
      ]
    },
    {
      "cell_type": "markdown",
      "metadata": {
        "id": "dhmqNI3JiRrs"
      },
      "source": [
        "First, import the standard libraries. If you are running this on Google Colab, and `seaborn` cannot be found, then uncomment the following cell."
      ]
    },
    {
      "cell_type": "code",
      "execution_count": null,
      "metadata": {
        "execution": {
          "iopub.execute_input": "2021-06-19T02:12:00.502551Z",
          "iopub.status.busy": "2021-06-19T02:12:00.499956Z",
          "iopub.status.idle": "2021-06-19T02:12:01.717307Z",
          "shell.execute_reply": "2021-06-19T02:12:01.716593Z"
        },
        "id": "moB4tpEHxKB3"
      },
      "outputs": [],
      "source": [
        "# !pip install -q seaborn"
      ]
    },
    {
      "cell_type": "code",
      "execution_count": null,
      "metadata": {
        "execution": {
          "iopub.execute_input": "2021-06-19T02:12:01.722334Z",
          "iopub.status.busy": "2021-06-19T02:12:01.721620Z",
          "iopub.status.idle": "2021-06-19T02:12:02.459097Z",
          "shell.execute_reply": "2021-06-19T02:12:02.459540Z"
        },
        "id": "1rRo8oNqZ-Rj"
      },
      "outputs": [],
      "source": [
        "import matplotlib.pyplot as plt\n",
        "import numpy as np\n",
        "import pandas as pd\n",
        "import seaborn as sns"
      ]
    },
    {
      "cell_type": "markdown",
      "metadata": {
        "id": "P7AvhWgojMv2"
      },
      "source": [
        "We import `tensorflow` and `keras`, the package `layers` for setting up sequential models and a function for normalizing data."
      ]
    },
    {
      "cell_type": "code",
      "execution_count": null,
      "metadata": {
        "execution": {
          "iopub.execute_input": "2021-06-19T02:12:02.463722Z",
          "iopub.status.busy": "2021-06-19T02:12:02.463169Z",
          "iopub.status.idle": "2021-06-19T02:12:03.648523Z",
          "shell.execute_reply": "2021-06-19T02:12:03.648892Z"
        },
        "id": "9xQKvCJ85kCQ"
      },
      "outputs": [],
      "source": [
        "import tensorflow as tf\n",
        "\n",
        "from tensorflow import keras\n",
        "from tensorflow.keras import layers\n",
        "from tensorflow.keras.layers.experimental import preprocessing\n"
      ]
    },
    {
      "cell_type": "markdown",
      "metadata": {
        "id": "F_72b0LCNbjx"
      },
      "source": [
        "## The Auto MPG dataset\n"
      ]
    },
    {
      "cell_type": "markdown",
      "metadata": {
        "id": "gFh9ne3FZ-On"
      },
      "source": [
        "We first download and import the dataset from the [UCI Machine Learning Repository](https://archive.ics.uci.edu/ml/) using pandas. The names can be found in the file [auto-mpg.names](https://archive.ics.uci.edu/ml/machine-learning-databases/auto-mpg/auto-mpg.names)."
      ]
    },
    {
      "cell_type": "code",
      "execution_count": null,
      "metadata": {
        "execution": {
          "iopub.execute_input": "2021-06-19T02:12:03.654722Z",
          "iopub.status.busy": "2021-06-19T02:12:03.654163Z",
          "iopub.status.idle": "2021-06-19T02:12:04.358078Z",
          "shell.execute_reply": "2021-06-19T02:12:04.358528Z"
        },
        "id": "CiX2FI4gZtTt"
      },
      "outputs": [],
      "source": [
        "url = 'http://archive.ics.uci.edu/ml/machine-learning-databases/auto-mpg/auto-mpg.data'\n",
        "column_names = ['MPG', 'Cylinders', 'Displacement', 'Horsepower', 'Weight',\n",
        "                'Acceleration', 'Model Year', 'Origin']\n",
        "\n",
        "df = pd.read_csv(url, names=column_names,\n",
        "                          na_values='?', comment='\\t',\n",
        "                          sep=' ', skipinitialspace=True)"
      ]
    },
    {
      "cell_type": "code",
      "execution_count": null,
      "metadata": {
        "execution": {
          "iopub.execute_input": "2021-06-19T02:12:04.368388Z",
          "iopub.status.busy": "2021-06-19T02:12:04.363518Z",
          "iopub.status.idle": "2021-06-19T02:12:04.375410Z",
          "shell.execute_reply": "2021-06-19T02:12:04.374999Z"
        },
        "id": "2oY3pMPagJrO"
      },
      "outputs": [],
      "source": [
        "df.sample(5)"
      ]
    },
    {
      "cell_type": "markdown",
      "metadata": {
        "id": "3MWuJTKEDM-f"
      },
      "source": [
        "First we check for missing values, which are denoted by `?` in the file, and which the import statement has converted to NaN."
      ]
    },
    {
      "cell_type": "code",
      "execution_count": null,
      "metadata": {
        "execution": {
          "iopub.execute_input": "2021-06-19T02:12:04.381115Z",
          "iopub.status.busy": "2021-06-19T02:12:04.380384Z",
          "iopub.status.idle": "2021-06-19T02:12:04.383506Z",
          "shell.execute_reply": "2021-06-19T02:12:04.383034Z"
        },
        "id": "JEJHhN65a2VV"
      },
      "outputs": [],
      "source": [
        "df.isna().sum()"
      ]
    },
    {
      "cell_type": "markdown",
      "metadata": {
        "id": "9UPN0KBHa_WI"
      },
      "source": [
        "Drop those rows to keep this simple."
      ]
    },
    {
      "cell_type": "code",
      "execution_count": null,
      "metadata": {
        "execution": {
          "iopub.execute_input": "2021-06-19T02:12:04.388417Z",
          "iopub.status.busy": "2021-06-19T02:12:04.387843Z",
          "iopub.status.idle": "2021-06-19T02:12:04.391275Z",
          "shell.execute_reply": "2021-06-19T02:12:04.390853Z"
        },
        "id": "4ZUDosChC1UN"
      },
      "outputs": [],
      "source": [
        "df.dropna(inplace=True)"
      ]
    },
    {
      "cell_type": "markdown",
      "metadata": {
        "id": "8XKitwaH4v8h"
      },
      "source": [
        "The `\"Origin\"` column is categorical, not numeric. So we first use a dictionary to convert it to categorical data and then one-hot encode with `pd.get_dummies`."
      ]
    },
    {
      "cell_type": "code",
      "execution_count": null,
      "metadata": {
        "execution": {
          "iopub.execute_input": "2021-06-19T02:12:04.396054Z",
          "iopub.status.busy": "2021-06-19T02:12:04.395453Z",
          "iopub.status.idle": "2021-06-19T02:12:04.397746Z",
          "shell.execute_reply": "2021-06-19T02:12:04.397311Z"
        },
        "id": "gWNTD2QjBWFJ"
      },
      "outputs": [],
      "source": [
        "df['Origin'] = df['Origin'].map({1: 'USA', 2: 'Europe', 3: 'Japan'})"
      ]
    },
    {
      "cell_type": "code",
      "execution_count": null,
      "metadata": {
        "execution": {
          "iopub.execute_input": "2021-06-19T02:12:04.411602Z",
          "iopub.status.busy": "2021-06-19T02:12:04.407112Z",
          "iopub.status.idle": "2021-06-19T02:12:04.414505Z",
          "shell.execute_reply": "2021-06-19T02:12:04.414117Z"
        },
        "id": "ulXz4J7PAUzk"
      },
      "outputs": [],
      "source": [
        "df = pd.get_dummies(df, columns=['Origin'], prefix='', prefix_sep='')\n",
        "df.sample(5)"
      ]
    },
    {
      "cell_type": "markdown",
      "metadata": {
        "id": "gavKO_6DWRMP"
      },
      "source": [
        "We can view the statistics, to see the range of each variable."
      ]
    },
    {
      "cell_type": "code",
      "execution_count": null,
      "metadata": {
        "execution": {
          "iopub.execute_input": "2021-06-19T02:12:06.527891Z",
          "iopub.status.busy": "2021-06-19T02:12:06.526080Z",
          "iopub.status.idle": "2021-06-19T02:12:06.555002Z",
          "shell.execute_reply": "2021-06-19T02:12:06.554585Z"
        },
        "id": "yi2FzC3T21jR"
      },
      "outputs": [],
      "source": [
        "df.describe()"
      ]
    },
    {
      "cell_type": "markdown",
      "metadata": {
        "id": "Fm38LBkEsLJC"
      },
      "source": [
        "We can investigate the correlation between variables. The fuel efficiency (MPG) is highly correlated with the variables `Cylinders`, `Displacement`, `Horsepower` and `Weight`, and the correlation between these variables is very high."
      ]
    },
    {
      "cell_type": "code",
      "execution_count": null,
      "metadata": {
        "id": "hVosog7grmWm"
      },
      "outputs": [],
      "source": [
        "corrs = df.corr() # calculate the correlation table\n",
        "# as this is a symmetric table,\n",
        "# set up a mask so that we only plot values below the main diagonal\n",
        "mask = np.triu(np.ones_like(corrs, dtype=bool))\n",
        "f, ax = plt.subplots(figsize=(10, 8)) # initialise the plots and axes\n",
        "# plot the correlations as a seaborn heatmap, with a colourbar\n",
        "sns.heatmap(corrs, mask=mask, center=0, annot=True, square=True, linewidths=.5)\n",
        "# do some fiddling so that the top and bottom are not obscured\n",
        "bottom, top = ax.get_ylim()\n",
        "ax.set_ylim(bottom + 0.5, top - 0.5);"
      ]
    },
    {
      "cell_type": "markdown",
      "metadata": {
        "id": "J4ubs136WLNp"
      },
      "source": [
        "`sns.pairplot()` can be used to view the relationship between different features. What we now want to do is create a model which determines the fuel efficiency (MPG) as a function of the other features. It appears that fuel efficiency is approximately inversely proportional to the other variables."
      ]
    },
    {
      "cell_type": "code",
      "execution_count": null,
      "metadata": {
        "execution": {
          "iopub.execute_input": "2021-06-19T02:12:04.661447Z",
          "iopub.status.busy": "2021-06-19T02:12:04.454498Z",
          "iopub.status.idle": "2021-06-19T02:12:06.519885Z",
          "shell.execute_reply": "2021-06-19T02:12:06.520249Z"
        },
        "id": "oRKO_x8gWKv-"
      },
      "outputs": [],
      "source": [
        "sns.pairplot(df[['MPG', 'Cylinders', 'Horsepower', 'Displacement', 'Weight']],\n",
        "             diag_kind='kde', height=2)"
      ]
    },
    {
      "cell_type": "markdown",
      "metadata": {
        "id": "Db7Auq1yXUvh"
      },
      "source": [
        "Since we want to predict `MPG`, this is our label, and the other variables are features. We can separate the data into the label and features, and then split both sets into testing and training sets."
      ]
    },
    {
      "cell_type": "code",
      "execution_count": null,
      "metadata": {
        "execution": {
          "iopub.execute_input": "2021-06-19T02:12:06.559830Z",
          "iopub.status.busy": "2021-06-19T02:12:06.559124Z",
          "iopub.status.idle": "2021-06-19T02:12:06.561956Z",
          "shell.execute_reply": "2021-06-19T02:12:06.561564Z"
        },
        "id": "t2sluJdCW7jN"
      },
      "outputs": [],
      "source": [
        "from sklearn.model_selection import train_test_split\n",
        "\n",
        "features = df.drop(['MPG'], axis=1)\n",
        "labels = df['MPG']\n",
        "\n",
        "X_train, X_test, y_train, y_test = train_test_split(features, labels,\n",
        "                                                    test_size=0.2,\n",
        "                                                    random_state=42)"
      ]
    },
    {
      "cell_type": "markdown",
      "metadata": {
        "id": "mRklxK5s388r"
      },
      "source": [
        "In the table of statistics it is apparent that the values of the features are widely distributed."
      ]
    },
    {
      "cell_type": "code",
      "execution_count": null,
      "metadata": {
        "execution": {
          "iopub.execute_input": "2021-06-19T02:12:06.570028Z",
          "iopub.status.busy": "2021-06-19T02:12:06.566873Z",
          "iopub.status.idle": "2021-06-19T02:12:06.589473Z",
          "shell.execute_reply": "2021-06-19T02:12:06.589805Z"
        },
        "id": "IcmY6lKKbkw8"
      },
      "outputs": [],
      "source": [
        "X_train.describe().loc[['mean', 'std']]"
      ]
    },
    {
      "cell_type": "markdown",
      "metadata": {
        "id": "-ywmerQ6dSox"
      },
      "source": [
        "As with classification with neural networks, it is best practice to normalize features that use different scales and ranges. This ensures that techniques such as regularization, which we will consider later, can be applied uniformly.\n",
        "\n",
        "There is no advantage to normalizing the one-hot features, it is done here for simplicity."
      ]
    },
    {
      "cell_type": "markdown",
      "metadata": {
        "id": "aFJ6ISropeoo"
      },
      "source": [
        "Previously we have used the `mean` and `std` to normalize the variables. Here we will use `keras` `preprocessing.Normalization` layer to build the preprocessing into the model.\n",
        "\n",
        "The first step is to create the layer. `axis=-1` states to apply the normalization to the last dimension."
      ]
    },
    {
      "cell_type": "code",
      "execution_count": null,
      "metadata": {
        "execution": {
          "iopub.execute_input": "2021-06-19T02:12:06.593382Z",
          "iopub.status.busy": "2021-06-19T02:12:06.592850Z",
          "iopub.status.idle": "2021-06-19T02:12:06.598082Z",
          "shell.execute_reply": "2021-06-19T02:12:06.597607Z"
        },
        "id": "JlC5ooJrgjQF"
      },
      "outputs": [],
      "source": [
        "normalizer = preprocessing.Normalization(axis=-1)"
      ]
    },
    {
      "cell_type": "markdown",
      "metadata": {
        "id": "XYA2Ap6nVOha"
      },
      "source": [
        "Then `.adapt()` it to the data, which calculates the mean and variance, and stores them in the layer."
      ]
    },
    {
      "cell_type": "code",
      "execution_count": null,
      "metadata": {
        "execution": {
          "iopub.execute_input": "2021-06-19T02:12:07.860779Z",
          "iopub.status.busy": "2021-06-19T02:12:07.860095Z",
          "iopub.status.idle": "2021-06-19T02:12:08.304992Z",
          "shell.execute_reply": "2021-06-19T02:12:08.305422Z"
        },
        "id": "CrBbbjbwV91f"
      },
      "outputs": [],
      "source": [
        "normalizer.adapt(np.array(X_train))"
      ]
    },
    {
      "cell_type": "code",
      "execution_count": null,
      "metadata": {
        "execution": {
          "iopub.execute_input": "2021-06-19T02:12:08.309201Z",
          "iopub.status.busy": "2021-06-19T02:12:08.308641Z",
          "iopub.status.idle": "2021-06-19T02:12:08.311492Z",
          "shell.execute_reply": "2021-06-19T02:12:08.311841Z"
        },
        "id": "GGn-ukwxSPtx"
      },
      "outputs": [],
      "source": [
        "print(normalizer.mean.numpy())"
      ]
    },
    {
      "cell_type": "markdown",
      "metadata": {
        "id": "oGWKaF9GSRuN"
      },
      "source": [
        "When the layer is called it returns the input data, with each feature independently normalized."
      ]
    },
    {
      "cell_type": "code",
      "execution_count": null,
      "metadata": {
        "execution": {
          "iopub.execute_input": "2021-06-19T02:12:08.316506Z",
          "iopub.status.busy": "2021-06-19T02:12:08.315968Z",
          "iopub.status.idle": "2021-06-19T02:12:08.320968Z",
          "shell.execute_reply": "2021-06-19T02:12:08.321297Z"
        },
        "id": "2l7zFL_XWIRu"
      },
      "outputs": [],
      "source": [
        "firstrow = np.array(X_train[:1])\n",
        "\n",
        "print('First example:', firstrow)\n",
        "print('Normalized:', normalizer(firstrow).numpy())"
      ]
    },
    {
      "cell_type": "markdown",
      "metadata": {
        "id": "6o3CrycBXA2s"
      },
      "source": [
        "## Linear regression\n",
        "\n"
      ]
    },
    {
      "cell_type": "markdown",
      "metadata": {
        "id": "1NRJk5Zz4r6X"
      },
      "source": [
        "Before building a nonlinear neural network model, we will build a model which implements linear regression. This corresponds to a single perceptron with a continuous output."
      ]
    },
    {
      "cell_type": "markdown",
      "metadata": {
        "id": "unyprb9h5ErV"
      },
      "source": [
        "First we create a convenience function to build and compile a simple sequential neural network. This is essentially the same as the models we have previously considered for classification, except the last layer is a `Dense` layer, with a single continuous output, and the loss function is the mean absolute error.\n",
        "\n",
        "For this models we can specify different inputs using `norm`, the number of hidden layers and the neurons in each of these layers, and the learning rate used by SGD."
      ]
    },
    {
      "cell_type": "code",
      "execution_count": null,
      "metadata": {
        "id": "qvr47xqY5Sz9"
      },
      "outputs": [],
      "source": [
        "def build_model_regress(norm, n_hidden=1, n_neurons=30,\n",
        "                            learning_rate=0.01):\n",
        "  \"\"\"Build and compile a simple sequential model with n_hidden\n",
        "  layers and n_neurons in each layer.\"\"\"\n",
        "\n",
        "  model = keras.models.Sequential()\n",
        "  model.add(norm)\n",
        "  for layer in range(n_hidden):\n",
        "    model.add(keras.layers.Dense(n_neurons, activation=\"relu\"))\n",
        "  model.add(keras.layers.Dense(1))\n",
        "\n",
        "  optimizer = keras.optimizers.SGD(learning_rate=learning_rate)\n",
        "  model.compile(loss='mean_absolute_error', optimizer=optimizer)\n",
        "\n",
        "  return model"
      ]
    },
    {
      "cell_type": "markdown",
      "metadata": {
        "id": "lFby9n0tnHkw"
      },
      "source": [
        "We start by creating a linear regression model which takes the input `Horsepower` and aims to predict `MPG`.\n",
        "\n",
        "For our default model we first need to create the horsepower `Normalization` layer. This just corresponds to creating an array with the `Horsepower` from the training set, initializing the normalization routine so that the input shape is a single vector (one feature) and then adapting the normalizer to calculate the mean and standard deviation of `Horsepower`."
      ]
    },
    {
      "cell_type": "code",
      "execution_count": null,
      "metadata": {
        "execution": {
          "iopub.execute_input": "2021-06-19T02:12:08.325972Z",
          "iopub.status.busy": "2021-06-19T02:12:08.325438Z",
          "iopub.status.idle": "2021-06-19T02:12:08.454735Z",
          "shell.execute_reply": "2021-06-19T02:12:08.455237Z"
        },
        "id": "1gJAy0fKs1TS"
      },
      "outputs": [],
      "source": [
        "horsepower = np.array(X_train['Horsepower'])\n",
        "\n",
        "horsepower_normalizer = preprocessing.Normalization(input_shape=[1,], axis=None)\n",
        "horsepower_normalizer.adapt(horsepower)"
      ]
    },
    {
      "cell_type": "markdown",
      "metadata": {
        "id": "4NVlHJY2TWlC"
      },
      "source": [
        "This layer then can be used as the model input. Since this is linear regression, we want no hidden layers and can set the number of neurons to 0. We can then output a summary of the model."
      ]
    },
    {
      "cell_type": "code",
      "execution_count": null,
      "metadata": {
        "execution": {
          "iopub.execute_input": "2021-06-19T02:12:08.462753Z",
          "iopub.status.busy": "2021-06-19T02:12:08.462180Z",
          "iopub.status.idle": "2021-06-19T02:12:08.480630Z",
          "shell.execute_reply": "2021-06-19T02:12:08.480968Z"
        },
        "id": "c0sXM7qLlKfZ"
      },
      "outputs": [],
      "source": [
        "horsepower_model = build_model_regress(horsepower_normalizer, n_hidden=0,\n",
        "                                 n_neurons=0, learning_rate=0.03)\n",
        "\n",
        "horsepower_model.summary()"
      ]
    },
    {
      "cell_type": "markdown",
      "metadata": {
        "id": "Z3q1I9TwnRSC"
      },
      "source": [
        "Now the model is configured, we use `Model.fit()` to train the model. Here we use 80% of the data for training and 20% for validation. The evolution of the metrics for the model are stored in `history`."
      ]
    },
    {
      "cell_type": "code",
      "execution_count": null,
      "metadata": {
        "execution": {
          "iopub.execute_input": "2021-06-19T02:12:09.095656Z",
          "iopub.status.busy": "2021-06-19T02:12:09.095122Z",
          "iopub.status.idle": "2021-06-19T02:12:11.760962Z",
          "shell.execute_reply": "2021-06-19T02:12:11.760518Z"
        },
        "id": "-iSrNy59nRAp"
      },
      "outputs": [],
      "source": [
        "%%time\n",
        "history = horsepower_model.fit(\n",
        "    X_train['Horsepower'], y_train,\n",
        "    epochs=200,\n",
        "    # suppress logging\n",
        "    verbose=0,\n",
        "    # Calculate validation results on 20% of the training data\n",
        "    validation_split = 0.2)"
      ]
    },
    {
      "cell_type": "markdown",
      "metadata": {
        "id": "xP9pP38Q8xZG"
      },
      "source": [
        "We can create a simple function for plotting the history of the model."
      ]
    },
    {
      "cell_type": "code",
      "execution_count": null,
      "metadata": {
        "execution": {
          "iopub.execute_input": "2021-06-19T02:12:11.776300Z",
          "iopub.status.busy": "2021-06-19T02:12:11.775754Z",
          "iopub.status.idle": "2021-06-19T02:12:11.778064Z",
          "shell.execute_reply": "2021-06-19T02:12:11.777568Z"
        },
        "id": "9E54UoZunqhc"
      },
      "outputs": [],
      "source": [
        "def plot_loss(history):\n",
        "  plt.plot(history.history['loss'], label='loss')\n",
        "  plt.plot(history.history['val_loss'], label='val_loss')\n",
        "  plt.ylim([0, 20])\n",
        "  plt.xlabel('Epoch')\n",
        "  plt.ylabel('Error [MPG]')\n",
        "  plt.legend()\n",
        "  plt.grid(True)"
      ]
    },
    {
      "cell_type": "markdown",
      "metadata": {
        "id": "mJG92QHC8_pV"
      },
      "source": [
        "For this model the training loss and the validation loss decreases steadily, with the training loss always being less than the validation loss, which is to be expected."
      ]
    },
    {
      "cell_type": "code",
      "execution_count": null,
      "metadata": {
        "execution": {
          "iopub.execute_input": "2021-06-19T02:12:11.814003Z",
          "iopub.status.busy": "2021-06-19T02:12:11.813441Z",
          "iopub.status.idle": "2021-06-19T02:12:11.893433Z",
          "shell.execute_reply": "2021-06-19T02:12:11.893029Z"
        },
        "id": "yYsQYrIZyqjz"
      },
      "outputs": [],
      "source": [
        "plot_loss(history)"
      ]
    },
    {
      "cell_type": "markdown",
      "metadata": {
        "id": "CMNrt8X2ebXd"
      },
      "source": [
        "We evaluate the results and store them in a structure for comparison with the other models."
      ]
    },
    {
      "cell_type": "code",
      "execution_count": null,
      "metadata": {
        "execution": {
          "iopub.execute_input": "2021-06-19T02:12:11.897676Z",
          "iopub.status.busy": "2021-06-19T02:12:11.897042Z",
          "iopub.status.idle": "2021-06-19T02:12:11.937760Z",
          "shell.execute_reply": "2021-06-19T02:12:11.937261Z"
        },
        "id": "kDZ8EvNYrDtx"
      },
      "outputs": [],
      "source": [
        "test_results = {}\n",
        "\n",
        "test_results['lin_horsepower_model'] = horsepower_model.evaluate(\n",
        "    X_test['Horsepower'],\n",
        "    y_test, verbose=0)"
      ]
    },
    {
      "cell_type": "markdown",
      "metadata": {
        "id": "F0qutYAKwoda"
      },
      "source": [
        "Since this is a single variable linear regression the output corresponds to a linear relationship, and we can compare the model predictions against the actual value."
      ]
    },
    {
      "cell_type": "code",
      "execution_count": null,
      "metadata": {
        "execution": {
          "iopub.execute_input": "2021-06-19T02:12:11.941334Z",
          "iopub.status.busy": "2021-06-19T02:12:11.940799Z",
          "iopub.status.idle": "2021-06-19T02:12:12.001498Z",
          "shell.execute_reply": "2021-06-19T02:12:12.001836Z"
        },
        "id": "xDS2JEtOn9Jn"
      },
      "outputs": [],
      "source": [
        "x = tf.linspace(0.0, 250, 251)\n",
        "y = horsepower_model.predict(x)"
      ]
    },
    {
      "cell_type": "markdown",
      "metadata": {
        "id": "_4j6ZzFA-Ixw"
      },
      "source": [
        "We define another convenience function for comparing the predictions."
      ]
    },
    {
      "cell_type": "code",
      "execution_count": null,
      "metadata": {
        "execution": {
          "iopub.execute_input": "2021-06-19T02:12:12.005768Z",
          "iopub.status.busy": "2021-06-19T02:12:12.005218Z",
          "iopub.status.idle": "2021-06-19T02:12:12.006867Z",
          "shell.execute_reply": "2021-06-19T02:12:12.007297Z"
        },
        "id": "rttFCTU8czsI"
      },
      "outputs": [],
      "source": [
        "def plot_horsepower(x, y):\n",
        "  plt.scatter(X_train['Horsepower'], y_train, label='Data')\n",
        "  plt.plot(x, y, color='k', label='Predictions')\n",
        "  plt.xlabel('Horsepower')\n",
        "  plt.ylabel('MPG')\n",
        "  plt.legend()"
      ]
    },
    {
      "cell_type": "markdown",
      "metadata": {
        "id": "jQtsXKk4-YKI"
      },
      "source": [
        "The predictions are reasonable for mid-range horsepower, but fail at the upper and lower limits."
      ]
    },
    {
      "cell_type": "code",
      "execution_count": null,
      "metadata": {
        "execution": {
          "iopub.execute_input": "2021-06-19T02:12:12.028005Z",
          "iopub.status.busy": "2021-06-19T02:12:12.027348Z",
          "iopub.status.idle": "2021-06-19T02:12:12.136773Z",
          "shell.execute_reply": "2021-06-19T02:12:12.137157Z"
        },
        "id": "7l9ZiAOEUNBL"
      },
      "outputs": [],
      "source": [
        "plot_horsepower(x,y)"
      ]
    },
    {
      "cell_type": "markdown",
      "metadata": {
        "id": "PribnwDHUksC"
      },
      "source": [
        "To implement multi-dimensional linear regression, we now just need to input the normalization layer which was defined earlier for the whole data set. Now the input shape corresponds to nine features."
      ]
    },
    {
      "cell_type": "code",
      "execution_count": null,
      "metadata": {
        "execution": {
          "iopub.execute_input": "2021-06-19T02:12:12.142743Z",
          "iopub.status.busy": "2021-06-19T02:12:12.142198Z",
          "iopub.status.idle": "2021-06-19T02:12:12.156359Z",
          "shell.execute_reply": "2021-06-19T02:12:12.156706Z"
        },
        "id": "ssnVcKg7oMe6"
      },
      "outputs": [],
      "source": [
        "linear_model = build_model_regress(normalizer, n_hidden=0, n_neurons=0,\n",
        "                                 learning_rate=0.03)\n",
        "\n",
        "linear_model.summary()"
      ]
    },
    {
      "cell_type": "markdown",
      "metadata": {
        "id": "eINAc6rZXzOt"
      },
      "source": [
        "We can now `fit` the model using the full training dataset."
      ]
    },
    {
      "cell_type": "code",
      "execution_count": null,
      "metadata": {
        "execution": {
          "iopub.execute_input": "2021-06-19T02:12:12.238573Z",
          "iopub.status.busy": "2021-06-19T02:12:12.237962Z",
          "iopub.status.idle": "2021-06-19T02:12:14.864339Z",
          "shell.execute_reply": "2021-06-19T02:12:14.864724Z"
        },
        "id": "EZoOYORvoTSe"
      },
      "outputs": [],
      "source": [
        "%%time\n",
        "history = linear_model.fit(\n",
        "    X_train, y_train,\n",
        "    epochs=200,\n",
        "    # suppress logging\n",
        "    verbose=0,\n",
        "    # Calculate validation results on 20% of the training data\n",
        "    validation_split = 0.2)"
      ]
    },
    {
      "cell_type": "markdown",
      "metadata": {
        "id": "EdxiCbiNYK2F"
      },
      "source": [
        "Plotting the history demonstrates that using all the inputs achieves a much lower training and validation error than the `horsepower` model."
      ]
    },
    {
      "cell_type": "code",
      "execution_count": null,
      "metadata": {
        "execution": {
          "iopub.execute_input": "2021-06-19T02:12:14.882514Z",
          "iopub.status.busy": "2021-06-19T02:12:14.881466Z",
          "iopub.status.idle": "2021-06-19T02:12:14.986161Z",
          "shell.execute_reply": "2021-06-19T02:12:14.986491Z"
        },
        "id": "4sWO3W0koYgu"
      },
      "outputs": [],
      "source": [
        "plot_loss(history)"
      ]
    },
    {
      "cell_type": "markdown",
      "metadata": {
        "id": "NyN49hIWe_NH"
      },
      "source": [
        "We collect the results of the test set, for later comparison."
      ]
    },
    {
      "cell_type": "code",
      "execution_count": null,
      "metadata": {
        "execution": {
          "iopub.execute_input": "2021-06-19T02:12:14.990509Z",
          "iopub.status.busy": "2021-06-19T02:12:14.989959Z",
          "iopub.status.idle": "2021-06-19T02:12:15.033455Z",
          "shell.execute_reply": "2021-06-19T02:12:15.033792Z"
        },
        "id": "jNC3D1DGsGgK"
      },
      "outputs": [],
      "source": [
        "test_results['lin_model'] = linear_model.evaluate(\n",
        "    X_test, y_test, verbose=0)"
      ]
    },
    {
      "cell_type": "markdown",
      "metadata": {
        "id": "SmjdzxKzEu1-"
      },
      "source": [
        "## Nonlinear regression"
      ]
    },
    {
      "cell_type": "markdown",
      "metadata": {
        "id": "DT_aHPsrzO1t"
      },
      "source": [
        "The previous section implemented linear models for single and multiple inputs.\n",
        "\n",
        "This section implements single-input and multiple-input Neural Network models. The code is essentially the same except the model is expanded to include hidden  nonlinear layers.\n",
        "\n",
        "These models will contain a few more layers than the linear model:\n",
        "\n",
        "* The normalization layer.\n",
        "* Two hidden, nonlinear, `Dense` layers using the `relu` nonlinearity.\n",
        "* A linear single-output layer.\n"
      ]
    },
    {
      "cell_type": "markdown",
      "metadata": {
        "id": "xvu9gtxTZR5V"
      },
      "source": [
        "We start with a model for the single input \"Horsepower\". The only difference is the number of hidden layers, and the number of neurons in these layers. However, there are now significantly more trainable parameters."
      ]
    },
    {
      "cell_type": "code",
      "execution_count": null,
      "metadata": {
        "execution": {
          "iopub.execute_input": "2021-06-19T02:12:15.045996Z",
          "iopub.status.busy": "2021-06-19T02:12:15.045445Z",
          "iopub.status.idle": "2021-06-19T02:12:15.074321Z",
          "shell.execute_reply": "2021-06-19T02:12:15.073923Z"
        },
        "id": "cGbPb-PHGbhs"
      },
      "outputs": [],
      "source": [
        "nn_horsepower_model = build_model_regress(horsepower_normalizer, n_hidden=2,\n",
        "                                     n_neurons=64, learning_rate=0.03)\n",
        "\n",
        "nn_horsepower_model.summary()"
      ]
    },
    {
      "cell_type": "markdown",
      "metadata": {
        "id": "0-qWCsh6DlyH"
      },
      "source": [
        "Training of the model is the same as before."
      ]
    },
    {
      "cell_type": "code",
      "execution_count": null,
      "metadata": {
        "execution": {
          "iopub.execute_input": "2021-06-19T02:12:15.086201Z",
          "iopub.status.busy": "2021-06-19T02:12:15.085665Z",
          "iopub.status.idle": "2021-06-19T02:12:17.949120Z",
          "shell.execute_reply": "2021-06-19T02:12:17.948634Z"
        },
        "id": "sD7qHCmNIOY0"
      },
      "outputs": [],
      "source": [
        "%%time\n",
        "history = nn_horsepower_model.fit(\n",
        "    X_train['Horsepower'], y_train,\n",
        "    validation_split=0.2,\n",
        "    verbose=0, epochs=200)"
      ]
    },
    {
      "cell_type": "markdown",
      "metadata": {
        "id": "dArGGxHxcKjN"
      },
      "source": [
        "This model is slightly more accurate than the linear-horsepower model, but the initial convergence is much more rapid."
      ]
    },
    {
      "cell_type": "code",
      "execution_count": null,
      "metadata": {
        "execution": {
          "iopub.execute_input": "2021-06-19T02:12:17.962709Z",
          "iopub.status.busy": "2021-06-19T02:12:17.961206Z",
          "iopub.status.idle": "2021-06-19T02:12:18.075835Z",
          "shell.execute_reply": "2021-06-19T02:12:18.075400Z"
        },
        "id": "NcF6UWjdCU8T"
      },
      "outputs": [],
      "source": [
        "plot_loss(history)"
      ]
    },
    {
      "cell_type": "markdown",
      "metadata": {
        "id": "TG1snlpR2QCK"
      },
      "source": [
        "Plotting the predictions as a function of `Horsepower`, we now see this model takes advantage of the nonlinearity provided by the hidden layers."
      ]
    },
    {
      "cell_type": "code",
      "execution_count": null,
      "metadata": {
        "execution": {
          "iopub.execute_input": "2021-06-19T02:12:18.079879Z",
          "iopub.status.busy": "2021-06-19T02:12:18.079311Z",
          "iopub.status.idle": "2021-06-19T02:12:18.154630Z",
          "shell.execute_reply": "2021-06-19T02:12:18.154121Z"
        },
        "id": "hPF53Rem14NS"
      },
      "outputs": [],
      "source": [
        "x = tf.linspace(0.0, 250, 251)\n",
        "y = nn_horsepower_model.predict(x)\n",
        "\n",
        "plot_horsepower(x, y)"
      ]
    },
    {
      "cell_type": "markdown",
      "metadata": {
        "id": "WxCJKIUpe4io"
      },
      "source": [
        "We collect the results of the test set, for later comparison."
      ]
    },
    {
      "cell_type": "code",
      "execution_count": null,
      "metadata": {
        "execution": {
          "iopub.execute_input": "2021-06-19T02:12:18.290080Z",
          "iopub.status.busy": "2021-06-19T02:12:18.289233Z",
          "iopub.status.idle": "2021-06-19T02:12:18.330925Z",
          "shell.execute_reply": "2021-06-19T02:12:18.331316Z"
        },
        "id": "bJjM0dU52XtN"
      },
      "outputs": [],
      "source": [
        "test_results['nn_horsepower_model'] = nn_horsepower_model.evaluate(\n",
        "    X_test['Horsepower'], y_test,\n",
        "    verbose=0)"
      ]
    },
    {
      "cell_type": "markdown",
      "metadata": {
        "id": "aKFtezDldLSf"
      },
      "source": [
        "This process can be repeated using all the inputs, which slightly improves the performance on the validation dataset."
      ]
    },
    {
      "cell_type": "code",
      "execution_count": null,
      "metadata": {
        "execution": {
          "iopub.execute_input": "2021-06-19T02:12:18.338148Z",
          "iopub.status.busy": "2021-06-19T02:12:18.337097Z",
          "iopub.status.idle": "2021-06-19T02:12:18.367226Z",
          "shell.execute_reply": "2021-06-19T02:12:18.367601Z"
        },
        "id": "c0mhscXh2k36"
      },
      "outputs": [],
      "source": [
        "nn_model = build_model_regress(normalizer, n_hidden=2, n_neurons=64,\n",
        "                          learning_rate=0.03)\n",
        "nn_model.summary()"
      ]
    },
    {
      "cell_type": "code",
      "execution_count": null,
      "metadata": {
        "execution": {
          "iopub.execute_input": "2021-06-19T02:12:18.372560Z",
          "iopub.status.busy": "2021-06-19T02:12:18.371698Z",
          "iopub.status.idle": "2021-06-19T02:12:21.223876Z",
          "shell.execute_reply": "2021-06-19T02:12:21.223392Z"
        },
        "id": "CXDENACl2tuW"
      },
      "outputs": [],
      "source": [
        "%%time\n",
        "history = nn_model.fit(\n",
        "    X_train, y_train,\n",
        "    validation_split=0.2,\n",
        "    verbose=0, epochs=200)"
      ]
    },
    {
      "cell_type": "code",
      "execution_count": null,
      "metadata": {
        "execution": {
          "iopub.execute_input": "2021-06-19T02:12:21.238671Z",
          "iopub.status.busy": "2021-06-19T02:12:21.238016Z",
          "iopub.status.idle": "2021-06-19T02:12:21.338446Z",
          "shell.execute_reply": "2021-06-19T02:12:21.338834Z"
        },
        "id": "-9Dbj0fX23RQ"
      },
      "outputs": [],
      "source": [
        "plot_loss(history)"
      ]
    },
    {
      "cell_type": "markdown",
      "metadata": {
        "id": "hWoVYS34fJPZ"
      },
      "source": [
        "Again we collect the results on the test set."
      ]
    },
    {
      "cell_type": "code",
      "execution_count": null,
      "metadata": {
        "execution": {
          "iopub.execute_input": "2021-06-19T02:12:21.342848Z",
          "iopub.status.busy": "2021-06-19T02:12:21.342270Z",
          "iopub.status.idle": "2021-06-19T02:12:21.385730Z",
          "shell.execute_reply": "2021-06-19T02:12:21.386116Z"
        },
        "id": "-bZIa96W3c7K"
      },
      "outputs": [],
      "source": [
        "test_results['nn_model'] = nn_model.evaluate(X_test, y_test, verbose=0)"
      ]
    },
    {
      "cell_type": "markdown",
      "metadata": {
        "id": "uiCucdPLfMkZ"
      },
      "source": [
        "## Performance"
      ]
    },
    {
      "cell_type": "markdown",
      "metadata": {
        "id": "rDf1xebEfWBw"
      },
      "source": [
        "Now that all the models are trained we can compare the performance. Not surprisingly, as the complexity of the model increases the absolute error of the model decrease. This suggests that the final model does not have excessive overfitting."
      ]
    },
    {
      "cell_type": "code",
      "execution_count": null,
      "metadata": {
        "execution": {
          "iopub.execute_input": "2021-06-19T02:12:21.394015Z",
          "iopub.status.busy": "2021-06-19T02:12:21.393391Z",
          "iopub.status.idle": "2021-06-19T02:12:21.396577Z",
          "shell.execute_reply": "2021-06-19T02:12:21.396183Z"
        },
        "id": "e5_ooufM5iH2"
      },
      "outputs": [],
      "source": [
        "pd.DataFrame(test_results, index=['Mean absolute error [MPG]']).T"
      ]
    },
    {
      "cell_type": "markdown",
      "metadata": {
        "id": "ft603OzXuEZC"
      },
      "source": [
        "Finally, we can use `predict` to compare the predicted values for the testing set against the actual values."
      ]
    },
    {
      "cell_type": "code",
      "execution_count": null,
      "metadata": {
        "execution": {
          "iopub.execute_input": "2021-06-19T02:12:21.401088Z",
          "iopub.status.busy": "2021-06-19T02:12:21.400539Z",
          "iopub.status.idle": "2021-06-19T02:12:21.562114Z",
          "shell.execute_reply": "2021-06-19T02:12:21.561710Z"
        },
        "id": "Xe7RXH3N3CWU"
      },
      "outputs": [],
      "source": [
        "test_predictions = nn_model.predict(X_test).flatten()\n",
        "\n",
        "plt.scatter(y_test, test_predictions)\n",
        "plt.xlabel('True Values [MPG]')\n",
        "plt.ylabel('Predictions [MPG]')\n",
        "lims = [0, 50]\n",
        "plt.xlim(lims)\n",
        "plt.ylim(lims)\n",
        "plt.plot(lims,lims);"
      ]
    },
    {
      "cell_type": "markdown",
      "metadata": {
        "id": "19wyogbOSU5t"
      },
      "source": [
        "This suggests the model predicts the fuel efficiency reasonably well, so we can save it for later use.\n"
      ]
    },
    {
      "cell_type": "code",
      "execution_count": null,
      "metadata": {
        "execution": {
          "iopub.execute_input": "2021-06-19T02:12:21.708548Z",
          "iopub.status.busy": "2021-06-19T02:12:21.702446Z",
          "iopub.status.idle": "2021-06-19T02:12:22.384583Z",
          "shell.execute_reply": "2021-06-19T02:12:22.384085Z"
        },
        "id": "4-WwLlmfT-mb"
      },
      "outputs": [],
      "source": [
        "nn_model.save('nn_model.hd5');"
      ]
    },
    {
      "cell_type": "markdown",
      "metadata": {
        "id": "_6iYJ5FwFHTG"
      },
      "source": [
        "## Exercises"
      ]
    },
    {
      "cell_type": "markdown",
      "metadata": {
        "id": "lh5gOzu4HdS_"
      },
      "source": [
        "For these exercises we will investigate regularization techniques to cope with overfitting for the full nonlinear model. There are two-standard techniques for dealing with overfitting.\n",
        "\n",
        "The first of these is to use L2 (Ridge) or L1 (Lasso) Regularization on each layer. These add a penalty term to the objective function which si proportional to the square or absolute value of the weights. The objective is to reduce the number of non-zero weights in the system. This is analogous to what was previously considered with linear and logistic regression.\n",
        "\n",
        "The second method is to use dropout layers. In a dropout layer, during training a randomly chosen percentage of the nodes in each layer are ignored at each iteration. This reduces the sensitivity of the network to the training set and hence creates a more robust model.\n",
        "\n",
        "The function below generalizes the one created earlier to include L2 Regularization and Dropout layers."
      ]
    },
    {
      "cell_type": "code",
      "execution_count": null,
      "metadata": {
        "id": "1VFASwdxpik9"
      },
      "outputs": [],
      "source": [
        "def build_model_reg(norm, n_hidden=1, n_neurons=30,\n",
        "                            learning_rate=0.01,\n",
        "                  reg_factor=0, drop_rate=0):\n",
        "  \"\"\"Set up and compile a simple sequential model with n_hidden\n",
        "  layers and n_neurons in each layer, including L2 regularization\n",
        "  and drop-out layers.\"\"\"\n",
        "\n",
        "  model = keras.models.Sequential()\n",
        "  model.add(norm)\n",
        "  for layer in range(n_hidden):\n",
        "    model.add(keras.layers.Dense(n_neurons,\n",
        "                    kernel_regularizer=keras.regularizers.l2(reg_factor),\n",
        "                    activation=\"relu\"))\n",
        "    model.add(keras.layers.Dropout(drop_rate))\n",
        "  model.add(keras.layers.Dense(1,\n",
        "                        kernel_regularizer=keras.regularizers.l2(reg_factor)))\n",
        "\n",
        "  optimizer = keras.optimizers.SGD(learning_rate=learning_rate)\n",
        "  model.compile(loss='mean_absolute_error', optimizer=optimizer)\n",
        "\n",
        "  return model"
      ]
    },
    {
      "cell_type": "markdown",
      "metadata": {
        "id": "rfBxev_EMSPi"
      },
      "source": [
        "### Exercise 1 (4 marks)"
      ]
    },
    {
      "cell_type": "markdown",
      "metadata": {
        "id": "ZDewvh80Mapf"
      },
      "source": [
        "Create a neural network with the same parameters as `nn_model`, but with a regularization factor of 0.001. Train the model, plot the history and store the model results in `test_results`."
      ]
    },
    {
      "cell_type": "code",
      "execution_count": null,
      "metadata": {
        "id": "-CmY4z_LNHuu"
      },
      "outputs": [],
      "source": [
        "reg_model = build_model_reg(normalizer, n_hidden=2, n_neurons=64,\n",
        "                          learning_rate=0.03, reg_factor=0.001)\n",
        "reg_model.summary()"
      ]
    },
    {
      "cell_type": "code",
      "execution_count": null,
      "metadata": {
        "id": "cV0rp23WUhQZ"
      },
      "outputs": [],
      "source": [
        "%%time\n",
        "history = reg_model.fit(\n",
        "    X_train, y_train,\n",
        "    validation_split=0.2,\n",
        "    verbose=0, epochs=200)"
      ]
    },
    {
      "cell_type": "code",
      "execution_count": null,
      "metadata": {
        "id": "Tkk8YW8UUiWJ"
      },
      "outputs": [],
      "source": [
        "plot_loss(history)"
      ]
    },
    {
      "cell_type": "code",
      "execution_count": null,
      "metadata": {
        "id": "bWIQwuQUUqFM"
      },
      "outputs": [],
      "source": [
        " test_results['reg_model'] = reg_model.evaluate(X_test, y_test, verbose=0)"
      ]
    },
    {
      "cell_type": "markdown",
      "metadata": {
        "id": "r086DDasNMKg"
      },
      "source": [
        "### Exercise 2 (4 marks)"
      ]
    },
    {
      "cell_type": "markdown",
      "metadata": {
        "id": "80TgEdehNO8y"
      },
      "source": [
        "Repeat Exercise 1, but this time set the regularization factor to 0 and the dropout rate to 0.2."
      ]
    },
    {
      "cell_type": "code",
      "execution_count": null,
      "metadata": {
        "id": "4SP5ff9LNiMX"
      },
      "outputs": [],
      "source": [
        "drop_model = build_model_reg(normalizer, n_hidden=2, n_neurons=64,\n",
        "                          learning_rate=0.03, drop_rate=0.2)\n",
        "reg_model.summary()"
      ]
    },
    {
      "cell_type": "code",
      "execution_count": null,
      "metadata": {
        "id": "j-4DWhoqVxTb"
      },
      "outputs": [],
      "source": [
        "%%time\n",
        "history = drop_model.fit(\n",
        "    X_train, y_train,\n",
        "    validation_split=0.2,\n",
        "    verbose=0, epochs=200)"
      ]
    },
    {
      "cell_type": "code",
      "execution_count": null,
      "metadata": {
        "id": "GaBxcsFpVz2I"
      },
      "outputs": [],
      "source": [
        "plot_loss(history)"
      ]
    },
    {
      "cell_type": "code",
      "execution_count": null,
      "metadata": {
        "id": "_9pBwFukV3nm"
      },
      "outputs": [],
      "source": [
        "test_results['drop_model'] = drop_model.evaluate(X_test, y_test, verbose=0)"
      ]
    },
    {
      "cell_type": "markdown",
      "metadata": {
        "id": "WFczHeeGNmOc"
      },
      "source": [
        "### Exercise 3 (2 marks)"
      ]
    },
    {
      "cell_type": "markdown",
      "metadata": {
        "id": "3jy20uxANpJS"
      },
      "source": [
        "Print the comparison of all six models that have been created."
      ]
    },
    {
      "cell_type": "code",
      "execution_count": null,
      "metadata": {
        "id": "xG2q-ZmCN2Vj"
      },
      "outputs": [],
      "source": [
        " pd.DataFrame(test_results, index=['Mean absolute error [MPG]']).T"
      ]
    }
  ],
  "metadata": {
    "colab": {
      "provenance": [],
      "include_colab_link": true
    },
    "kernelspec": {
      "display_name": "Python 3 (ipykernel)",
      "language": "python",
      "name": "python3"
    },
    "language_info": {
      "codemirror_mode": {
        "name": "ipython",
        "version": 3
      },
      "file_extension": ".py",
      "mimetype": "text/x-python",
      "name": "python",
      "nbconvert_exporter": "python",
      "pygments_lexer": "ipython3",
      "version": "3.9.7"
    }
  },
  "nbformat": 4,
  "nbformat_minor": 0
}