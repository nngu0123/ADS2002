{
  "cells": [
    {
      "cell_type": "markdown",
      "metadata": {
        "id": "view-in-github",
        "colab_type": "text"
      },
      "source": [
        "<a href=\"https://colab.research.google.com/github/nngu0123/ADS2002/blob/main/GradientDescent.ipynb\" target=\"_parent\"><img src=\"https://colab.research.google.com/assets/colab-badge.svg\" alt=\"Open In Colab\"/></a>"
      ]
    },
    {
      "cell_type": "markdown",
      "metadata": {
        "id": "RkLpTSh5BcDv"
      },
      "source": [
        "# Gradient Descent"
      ]
    },
    {
      "cell_type": "markdown",
      "metadata": {
        "id": "doIoUIdgBcDw"
      },
      "source": [
        "Gradient descent algorithms underlie most of the optimization in Machine Learning. In this notebook we will go through some simple examples of how gradient descent is implemented, and the application of this to linear regression.\n",
        "\n",
        "We will use the [Diabetes dataset](https://gitlab.erc.monash.edu.au/bads/data-challenges-resources/-/blob/main/Machine-Learning/SGD/Diabetes_Data.csv). Make sure you download this file and save it or upload this to your working directory."
      ]
    },
    {
      "cell_type": "markdown",
      "metadata": {
        "id": "EnwP5-WMBcDx"
      },
      "source": [
        "## Contents\n",
        "\n",
        "* Vanilla Gradient Descent\n",
        "* Application to Linear Regression\n",
        "* Exercises"
      ]
    },
    {
      "cell_type": "markdown",
      "metadata": {
        "id": "dscaqyk8BcDx"
      },
      "source": [
        "## Vanilla Gradient Descent"
      ]
    },
    {
      "cell_type": "markdown",
      "metadata": {
        "id": "7zOjoGYLBcDx"
      },
      "source": [
        "Consider that we have $n$ independent features, which are denoted by $x_1, \\dots, x_n$, and a function $V(x_1,\\dots,x_n)$ which we want to minimize. If we have have a function $W(x_1,\\dots,x_n)$ that we want to maximize, then let $V = -W$ and minimizing $V$ is equivalent to maximizing $W$.\n",
        "\n",
        "Since the name includes gradient, we first need to define the gradient. This is simply a vector which consists of all the first partial derivatives of the function $V$:\n",
        "\n",
        "$$\n",
        "\\nabla V ({\\textbf x}) = \\left( \\frac{\\partial V}{\\partial x_1}, \\dots, \\frac{\\partial V}{\\partial x_n}\\right).\n",
        "$$\n",
        "\n",
        "Recall that the partial derivative simply corresponds to the derivative with respect to that variable, with all other variables held constant.\n",
        "\n",
        "The first observation that we can make about a function that we want to minimize is that the gradient of the function at a point is in the direction that the function increases fastest. Hence, in the opposite direction the function will **decrease** the fastest. Therefore the most sensible direction to minimize the function is in the opposite direction to the gradient, and consequently we can let\n",
        "\n",
        "$$\n",
        "{\\textbf x}^{(n+1)} = {\\textbf x}^{(n)} - \\eta \\nabla V ({\\textbf x}^{(n)}).\n",
        "$$\n",
        "\n",
        "This forms the basis of the gradient descent method, and the parameter $\\eta > 0$ is called the learning rate. This is known as an **iterative method**. We have seen these types of methods previously, e.g., the k-Nearest Neighbours method.\n",
        "\n",
        "The following short function implements gradient descent. It takes as input a function which calculates the gradient, a starting point, a learning rate, the maxiumum number of iterations to take and the tolerance. Once the increments for the points decrease by less than the tolerance the algorithm returns the optimal value."
      ]
    },
    {
      "cell_type": "code",
      "execution_count": null,
      "metadata": {
        "id": "0hmDhrhMBcDy"
      },
      "outputs": [],
      "source": [
        "import numpy as np\n",
        "import matplotlib.pyplot as plt\n",
        "\n",
        "def gradient_descent(gradient, start, learn_rate, n_iter=50, tolerance=1.e-6):\n",
        "    vector = start\n",
        "    for n in range(n_iter):\n",
        "        diff = -learn_rate * gradient(vector)\n",
        "        if np.sum(np.abs(diff)) <= tolerance:\n",
        "            break\n",
        "        vector = vector+diff\n",
        "    return vector"
      ]
    },
    {
      "cell_type": "markdown",
      "metadata": {
        "id": "Ti0KFWo0BcDz"
      },
      "source": [
        "To implement this method we use as input the gradient of the quadratic function $V=x^2$. In this case the gradient is just the scalar $2x$. We do one iteration on each call to the gradient descent function, to enable plotting of the evolution of the updates. In this case for a small learning rate, the solution converges monotonically to the minimum at $x=0$."
      ]
    },
    {
      "cell_type": "code",
      "execution_count": null,
      "metadata": {
        "colab": {
          "base_uri": "https://localhost:8080/",
          "height": 472
        },
        "id": "oXVzYV02BcDz",
        "outputId": "983ba54e-7fe1-4bf7-f58f-66e78a590d8a"
      },
      "outputs": [
        {
          "output_type": "display_data",
          "data": {
            "text/plain": [
              "<Figure size 640x480 with 1 Axes>"
            ],
            "image/png": "[encoded data removed]"
          },
          "metadata": {}
        }
      ],
      "source": [
        "quad_grad = lambda v: 2 * v\n",
        "quad = lambda v: v**2\n",
        "\n",
        "xa = np.zeros((21))\n",
        "xs = 5\n",
        "xa[0] = xs\n",
        "lrate = 0.1\n",
        "for ix in range(20):\n",
        "    xc = gradient_descent(quad_grad,xs,lrate,n_iter=1)\n",
        "    xa[ix+1] = xc\n",
        "    xs = xc\n",
        "\n",
        "xf = np.linspace(-6,6)\n",
        "plt.plot(xa, quad(xa), 'r.-')\n",
        "plt.plot(xf, quad(xf))\n",
        "plt.xlabel('x')\n",
        "plt.ylabel('f(x)')\n",
        "plt.title(f\"Learning rate %g\" % lrate);"
      ]
    },
    {
      "cell_type": "markdown",
      "metadata": {
        "id": "znrbzbkDBcDz"
      },
      "source": [
        "If we make the learning rate larger, the iterations now oscillate between either side of the function, and the convergence is much slower. If the learning rate is larger than 1 for this example, the iterations will diverge."
      ]
    },
    {
      "cell_type": "code",
      "execution_count": null,
      "metadata": {
        "colab": {
          "base_uri": "https://localhost:8080/",
          "height": 472
        },
        "id": "_wxRwTUHBcD0",
        "outputId": "c10e8938-0f45-48f6-da30-eeabd568c6dd"
      },
      "outputs": [
        {
          "output_type": "display_data",
          "data": {
            "text/plain": [
              "<Figure size 640x480 with 1 Axes>"
            ],
            "image/png": "[encoded data removed]"
          },
          "metadata": {}
        }
      ],
      "source": [
        "xa = np.zeros((21))\n",
        "xs = 5\n",
        "xa[0] = xs\n",
        "lrate = 0.9\n",
        "for ix in range(20):\n",
        "    xc = gradient_descent(quad_grad,xs,lrate,n_iter=1)\n",
        "    xa[ix+1] = xc\n",
        "    xs = xc\n",
        "\n",
        "xf = np.linspace(-6,6)\n",
        "plt.plot(xa, quad(xa), 'r.-')\n",
        "plt.plot(xf, quad(xf))\n",
        "plt.xlabel('x')\n",
        "plt.ylabel('f(x)')\n",
        "plt.title(f\"Learning rate %g\" % lrate);"
      ]
    },
    {
      "cell_type": "markdown",
      "metadata": {
        "id": "fvWxxqt3BcD0"
      },
      "source": [
        "One problem that often occurs with gradient descent is that the solution can converge to a local minimum. For example, for the quartic function below we see that the solution converges to the local minimum at $x\\approx 1$. Whereas for a learning rate of half the given value the solution will converge to the global minimum."
      ]
    },
    {
      "cell_type": "code",
      "execution_count": null,
      "metadata": {
        "colab": {
          "base_uri": "https://localhost:8080/",
          "height": 472
        },
        "id": "GAJFsQ7aBcD0",
        "outputId": "ff0b458c-9ba1-42ba-ded7-bb252551a5cb"
      },
      "outputs": [
        {
          "output_type": "display_data",
          "data": {
            "text/plain": [
              "<Figure size 640x480 with 1 Axes>"
            ],
            "image/png": "[encoded data removed]"
          },
          "metadata": {}
        }
      ],
      "source": [
        "quart_grad = lambda x: 4*x**3+6*x**2-6*x-2\n",
        "quart = lambda x: x**4+2*x**3-3*x**2-2*x+1\n",
        "\n",
        "xa = np.zeros((21))\n",
        "xs = -3\n",
        "xa[0] = xs\n",
        "lrate = 0.1\n",
        "for ix in range(20):\n",
        "    xc = gradient_descent(quart_grad,xs,lrate,n_iter=1)\n",
        "    xa[ix+1] = xc\n",
        "    xs = xc\n",
        "\n",
        "xf = np.linspace(-4,4)\n",
        "plt.plot(xa, quart(xa), 'r.-')\n",
        "plt.plot(xf, quart(xf))\n",
        "plt.ylim(-20,20)\n",
        "plt.xlabel('x')\n",
        "plt.ylabel('f(x)')\n",
        "plt.title(f\"Learning rate %g\" % lrate);"
      ]
    },
    {
      "cell_type": "markdown",
      "metadata": {
        "id": "qu2tQrQcBcD0"
      },
      "source": [
        "We can investigate convergence of gradient descent for functions of two variables. In this case the gradient will be a two-dimensional vector. Consider first a simple ellipse. In this case if we track the iterations, at each point the line to the next point is perpendicular to the contours, which is the direction of the gradient. Here a constant learning rate has been used, and consequently the iterations zig-zag about the minimum and never reach the minimum. If we add a mild decay to the learning rate, the solution eventually converges to the minimum."
      ]
    },
    {
      "cell_type": "code",
      "execution_count": null,
      "metadata": {
        "colab": {
          "base_uri": "https://localhost:8080/",
          "height": 465
        },
        "id": "Iyh2ectdBcD0",
        "outputId": "aac9aac4-5615-446d-f6ac-238c05b2e01f"
      },
      "outputs": [
        {
          "output_type": "display_data",
          "data": {
            "text/plain": [
              "<Figure size 600x500 with 1 Axes>"
            ],
            "image/png": "[encoded data removed]"
          },
          "metadata": {}
        }
      ],
      "source": [
        "def ellipse(x):\n",
        "    ellipse = .125*x[0]**2 + x[1]**2\n",
        "    return ellipse\n",
        "\n",
        "def ellipse_grad(x):\n",
        "    ellipse_grad = np.array([.25*x[0], 2*x[1]])\n",
        "    return ellipse_grad\n",
        "\n",
        "xa = np.zeros((21, 2))\n",
        "xs = np.array([4,1])\n",
        "xa[0] = xs\n",
        "lrate = 1.\n",
        "decay = .0\n",
        "for ix in range(20):\n",
        "    lr = lrate/(1+decay*ix)\n",
        "    xc = gradient_descent(ellipse_grad,xs,lr,n_iter=1)\n",
        "    xa[ix+1] = xc\n",
        "    xs = xc\n",
        "\n",
        "xb = np.zeros((21, 2))\n",
        "xs = np.array([4,1])\n",
        "xb[0] = xs\n",
        "lrate = 1.\n",
        "decay = .01\n",
        "for ix in range(20):\n",
        "    lr = lrate/(1+decay*ix)\n",
        "    xc = gradient_descent(ellipse_grad,xs,lr,n_iter=1)\n",
        "    xb[ix+1] = xc\n",
        "    xs = xc\n",
        "\n",
        "fig, ax = plt.subplots(figsize=(6,5)) # initialise the plots and axes\n",
        "\n",
        "# Make data.\n",
        "X = np.arange(-5, 5, 0.25)\n",
        "Y = np.arange(-5, 5, 0.25)\n",
        "X, Y = np.meshgrid(X, Y)\n",
        "Z = ellipse(np.column_stack([X.ravel(), Y.ravel()]).T)\n",
        "Z = Z.reshape(X.shape)\n",
        "# Plot the surface.\n",
        "ax.contourf(X, Y, Z, 21)\n",
        "plt.plot(xa[:,0], xa[:,1], 'r.-', label='Constant learning rate')\n",
        "plt.plot(xb[:,0], xb[:,1], 'b.-', label='Decaying learning rate')\n",
        "plt.xlabel('x')\n",
        "plt.ylabel('y')\n",
        "plt.legend();"
      ]
    },
    {
      "cell_type": "markdown",
      "metadata": {
        "id": "UYpKr_p3BcD0"
      },
      "source": [
        "If we halve the learning rate, but don't include a decay rate, the iterations now converge rapidly to the minimum."
      ]
    },
    {
      "cell_type": "code",
      "execution_count": null,
      "metadata": {
        "colab": {
          "base_uri": "https://localhost:8080/",
          "height": 487
        },
        "id": "N3VHGQnwBcD0",
        "outputId": "ab4949b4-b140-4209-d8af-91219b1cb50f"
      },
      "outputs": [
        {
          "output_type": "display_data",
          "data": {
            "text/plain": [
              "<Figure size 600x500 with 1 Axes>"
            ],
            "image/png": "[encoded data removed]"
          },
          "metadata": {}
        }
      ],
      "source": [
        "xa = np.zeros((21, 2))\n",
        "xs = np.array([4,1])\n",
        "xa[0] = xs\n",
        "lrate = .5\n",
        "decay = .0\n",
        "for ix in range(20):\n",
        "    lr = lrate/(1+decay*ix)\n",
        "    xc = gradient_descent(ellipse_grad,xs,lr,n_iter=1)\n",
        "    xa[ix+1] = xc\n",
        "    xs = xc\n",
        "\n",
        "fig, ax = plt.subplots(figsize=(6,5)) # initialise the plots and axes\n",
        "\n",
        "# Make data.\n",
        "X = np.arange(-5, 5, 0.25)\n",
        "Y = np.arange(-5, 5, 0.25)\n",
        "X, Y = np.meshgrid(X, Y)\n",
        "Z = ellipse(np.column_stack([X.ravel(), Y.ravel()]).T)\n",
        "Z = Z.reshape(X.shape)\n",
        "# Plot the surface.\n",
        "ax.contourf(X, Y, Z)\n",
        "plt.plot(xa[:,0], xa[:,1], 'r.-')\n",
        "plt.xlabel('x')\n",
        "plt.ylabel('y')\n",
        "plt.title(\"Decaying learning rate\");"
      ]
    },
    {
      "cell_type": "markdown",
      "metadata": {
        "id": "RH6oPi-cBcD0"
      },
      "source": [
        "We can consider a more complicated function which have multiple minima and saddle points. In this example the solution that we converge to again depends on the starting point, even though the starting points are quite close."
      ]
    },
    {
      "cell_type": "code",
      "execution_count": null,
      "metadata": {
        "colab": {
          "base_uri": "https://localhost:8080/",
          "height": 471
        },
        "id": "o3FlszaTBcD0",
        "outputId": "f5557bce-2b16-4948-c72f-3eb6c0a41b26"
      },
      "outputs": [
        {
          "output_type": "stream",
          "name": "stdout",
          "text": [
            "function minimum is -10.875\n"
          ]
        },
        {
          "output_type": "display_data",
          "data": {
            "text/plain": [
              "<Figure size 1000x500 with 2 Axes>"
            ],
            "image/png": "[encoded data removed]"
          },
          "metadata": {}
        }
      ],
      "source": [
        "def spoint(x):\n",
        "    ellipse = 1/8*x[0]**4 - 2*x[0]**2+x[0]+x[1]**2\n",
        "    return ellipse\n",
        "\n",
        "def spoint_grad(x):\n",
        "    ellipse_grad = np.array([.5*x[0]**3-4*x[0]+1, 2*x[1]])\n",
        "    return ellipse_grad\n",
        "\n",
        "xa = np.zeros((21, 2))\n",
        "xs = np.array([0, 3])\n",
        "xa[0] = xs\n",
        "lrate = .3\n",
        "decay = .02\n",
        "for ix in range(20):\n",
        "    lr = lrate/(1+decay*ix)\n",
        "    xc = gradient_descent(spoint_grad,xs,lr,n_iter=1)\n",
        "    xa[ix+1] = xc\n",
        "    xs = xc\n",
        "\n",
        "xb = np.zeros((21, 2))\n",
        "xs = np.array([.5, 3])\n",
        "xb[0] = xs\n",
        "lrate = .3\n",
        "decay = .02\n",
        "for ix in range(20):\n",
        "    lr = lrate/(1+decay*ix)\n",
        "    xc = gradient_descent(spoint_grad,xs,lr,n_iter=1)\n",
        "    xb[ix+1] = xc\n",
        "    xs = xc\n",
        "\n",
        "fig, (ax1, ax2) = plt.subplots(1,2,figsize=(10, 5)) # initialise the plots and axes\n",
        "\n",
        "# # Make data.\n",
        "X = np.arange(-5, 5, 0.25)\n",
        "Y = np.arange(-4, 4, 0.25)\n",
        "X, Y = np.meshgrid(X, Y)\n",
        "Z = spoint(np.column_stack([X.ravel(), Y.ravel()]).T)\n",
        "Z = Z.reshape(X.shape)\n",
        "print('function minimum is',Z.min())\n",
        "# Plot the surface.\n",
        "ax1.contourf(X, Y, Z)\n",
        "\n",
        "ax1.plot(xa[:,0], xa[:,1], 'r.-')\n",
        "ax1.plot(xb[:,0], xb[:,1], 'g.-')\n",
        "ax1.set_xlabel('x')\n",
        "ax1.set_ylabel('y')\n",
        "ax1.set_title('Decaying learning rate')\n",
        "ax2.plot(spoint(xa.T), label='x0 = 0')\n",
        "ax2.plot(spoint(xb.T), label='x0 = 0.5')\n",
        "ax2.set_xlabel('Iterations')\n",
        "ax2.set_ylabel('f(x)')\n",
        "ax2.legend();\n",
        "fig.tight_layout(pad=3.0);"
      ]
    },
    {
      "cell_type": "markdown",
      "metadata": {
        "id": "qzetOg5EBcD0"
      },
      "source": [
        "## Application to Linear Regression"
      ]
    },
    {
      "cell_type": "markdown",
      "metadata": {
        "id": "BDjzn8qeBcD1"
      },
      "source": [
        "Now import the Diabetes dataset. This consists of four physiological measurements, six blood serum measurements and the tendency to develop Diabetes one year after the measurements were taken. Hence, this is a regression problem, where we aim to predict the tendency 'Y' from the other variables."
      ]
    },
    {
      "cell_type": "code",
      "source": [
        "from google.colab import drive\n",
        "drive.mount('/content/gdrive')"
      ],
      "metadata": {
        "colab": {
          "base_uri": "https://localhost:8080/"
        },
        "id": "_ybpwqmKrUro",
        "outputId": "4e48f1a6-e77d-42ca-c8f6-2c270e8dc996"
      },
      "execution_count": 28,
      "outputs": [
        {
          "output_type": "stream",
          "name": "stdout",
          "text": [
            "Drive already mounted at /content/gdrive; to attempt to forcibly remount, call drive.mount(\"/content/gdrive\", force_remount=True).\n"
          ]
        }
      ]
    },
    {
      "cell_type": "code",
      "execution_count": 30,
      "metadata": {
        "colab": {
          "base_uri": "https://localhost:8080/",
          "height": 253
        },
        "id": "VnzKtxrqBcD1",
        "outputId": "0149fc8d-9a9a-4418-ce84-6c754fd2923f"
      },
      "outputs": [
        {
          "output_type": "execute_result",
          "data": {
            "text/plain": [
              "   AGE  SEX   BMI     BP   S1     S2    S3   S4      S5  S6  ...  Unnamed: 24  \\\n",
              "0   59    2  32.1  101.0  157   93.2  38.0  4.0  4.8598  87  ...          NaN   \n",
              "1   48    1  21.6   87.0  183  103.2  70.0  3.0  3.8918  69  ...          NaN   \n",
              "2   72    2  30.5   93.0  156   93.6  41.0  4.0  4.6728  85  ...          NaN   \n",
              "3   24    1  25.3   84.0  198  131.4  40.0  5.0  4.8903  89  ...          NaN   \n",
              "4   50    1  23.0  101.0  192  125.4  52.0  4.0  4.2905  80  ...          NaN   \n",
              "\n",
              "   Unnamed: 25 Unnamed: 26 Unnamed: 27 Unnamed: 28 Unnamed: 29  Unnamed: 30  \\\n",
              "0          NaN         NaN         NaN         NaN         NaN          NaN   \n",
              "1          NaN         NaN         NaN         NaN         NaN          NaN   \n",
              "2          NaN         NaN         NaN         NaN         NaN          NaN   \n",
              "3          NaN         NaN         NaN         NaN         NaN          NaN   \n",
              "4          NaN         NaN         NaN         NaN         NaN          NaN   \n",
              "\n",
              "   Unnamed: 31  Unnamed: 32  Unnamed: 33  \n",
              "0          NaN          NaN          NaN  \n",
              "1          NaN          NaN          NaN  \n",
              "2          NaN          NaN          NaN  \n",
              "3          NaN          NaN          NaN  \n",
              "4          NaN          NaN          NaN  \n",
              "\n",
              "[5 rows x 34 columns]"
            ],
            "text/html": [
              "\n",
              "  <div id=\"df-36e9ba64-3054-425b-9c90-32fa648082a6\" class=\"colab-df-container\">\n",
              "    <div>\n",
              "<style scoped>\n",
              "    .dataframe tbody tr th:only-of-type {\n",
              "        vertical-align: middle;\n",
              "    }\n",
              "\n",
              "    .dataframe tbody tr th {\n",
              "        vertical-align: top;\n",
              "    }\n",
              "\n",
              "    .dataframe thead th {\n",
              "        text-align: right;\n",
              "    }\n",
              "</style>\n",
              "<table border=\"1\" class=\"dataframe\">\n",
              "  <thead>\n",
              "    <tr style=\"text-align: right;\">\n",
              "      <th></th>\n",
              "      <th>AGE</th>\n",
              "      <th>SEX</th>\n",
              "      <th>BMI</th>\n",
              "      <th>BP</th>\n",
              "      <th>S1</th>\n",
              "      <th>S2</th>\n",
              "      <th>S3</th>\n",
              "      <th>S4</th>\n",
              "      <th>S5</th>\n",
              "      <th>S6</th>\n",
              "      <th>...</th>\n",
              "      <th>Unnamed: 24</th>\n",
              "      <th>Unnamed: 25</th>\n",
              "      <th>Unnamed: 26</th>\n",
              "      <th>Unnamed: 27</th>\n",
              "      <th>Unnamed: 28</th>\n",
              "      <th>Unnamed: 29</th>\n",
              "      <th>Unnamed: 30</th>\n",
              "      <th>Unnamed: 31</th>\n",
              "      <th>Unnamed: 32</th>\n",
              "      <th>Unnamed: 33</th>\n",
              "    </tr>\n",
              "  </thead>\n",
              "  <tbody>\n",
              "    <tr>\n",
              "      <th>0</th>\n",
              "      <td>59</td>\n",
              "      <td>2</td>\n",
              "      <td>32.1</td>\n",
              "      <td>101.0</td>\n",
              "      <td>157</td>\n",
              "      <td>93.2</td>\n",
              "      <td>38.0</td>\n",
              "      <td>4.0</td>\n",
              "      <td>4.8598</td>\n",
              "      <td>87</td>\n",
              "      <td>...</td>\n",
              "      <td>NaN</td>\n",
              "      <td>NaN</td>\n",
              "      <td>NaN</td>\n",
              "      <td>NaN</td>\n",
              "      <td>NaN</td>\n",
              "      <td>NaN</td>\n",
              "      <td>NaN</td>\n",
              "      <td>NaN</td>\n",
              "      <td>NaN</td>\n",
              "      <td>NaN</td>\n",
              "    </tr>\n",
              "    <tr>\n",
              "      <th>1</th>\n",
              "      <td>48</td>\n",
              "      <td>1</td>\n",
              "      <td>21.6</td>\n",
              "      <td>87.0</td>\n",
              "      <td>183</td>\n",
              "      <td>103.2</td>\n",
              "      <td>70.0</td>\n",
              "      <td>3.0</td>\n",
              "      <td>3.8918</td>\n",
              "      <td>69</td>\n",
              "      <td>...</td>\n",
              "      <td>NaN</td>\n",
              "      <td>NaN</td>\n",
              "      <td>NaN</td>\n",
              "      <td>NaN</td>\n",
              "      <td>NaN</td>\n",
              "      <td>NaN</td>\n",
              "      <td>NaN</td>\n",
              "      <td>NaN</td>\n",
              "      <td>NaN</td>\n",
              "      <td>NaN</td>\n",
              "    </tr>\n",
              "    <tr>\n",
              "      <th>2</th>\n",
              "      <td>72</td>\n",
              "      <td>2</td>\n",
              "      <td>30.5</td>\n",
              "      <td>93.0</td>\n",
              "      <td>156</td>\n",
              "      <td>93.6</td>\n",
              "      <td>41.0</td>\n",
              "      <td>4.0</td>\n",
              "      <td>4.6728</td>\n",
              "      <td>85</td>\n",
              "      <td>...</td>\n",
              "      <td>NaN</td>\n",
              "      <td>NaN</td>\n",
              "      <td>NaN</td>\n",
              "      <td>NaN</td>\n",
              "      <td>NaN</td>\n",
              "      <td>NaN</td>\n",
              "      <td>NaN</td>\n",
              "      <td>NaN</td>\n",
              "      <td>NaN</td>\n",
              "      <td>NaN</td>\n",
              "    </tr>\n",
              "    <tr>\n",
              "      <th>3</th>\n",
              "      <td>24</td>\n",
              "      <td>1</td>\n",
              "      <td>25.3</td>\n",
              "      <td>84.0</td>\n",
              "      <td>198</td>\n",
              "      <td>131.4</td>\n",
              "      <td>40.0</td>\n",
              "      <td>5.0</td>\n",
              "      <td>4.8903</td>\n",
              "      <td>89</td>\n",
              "      <td>...</td>\n",
              "      <td>NaN</td>\n",
              "      <td>NaN</td>\n",
              "      <td>NaN</td>\n",
              "      <td>NaN</td>\n",
              "      <td>NaN</td>\n",
              "      <td>NaN</td>\n",
              "      <td>NaN</td>\n",
              "      <td>NaN</td>\n",
              "      <td>NaN</td>\n",
              "      <td>NaN</td>\n",
              "    </tr>\n",
              "    <tr>\n",
              "      <th>4</th>\n",
              "      <td>50</td>\n",
              "      <td>1</td>\n",
              "      <td>23.0</td>\n",
              "      <td>101.0</td>\n",
              "      <td>192</td>\n",
              "      <td>125.4</td>\n",
              "      <td>52.0</td>\n",
              "      <td>4.0</td>\n",
              "      <td>4.2905</td>\n",
              "      <td>80</td>\n",
              "      <td>...</td>\n",
              "      <td>NaN</td>\n",
              "      <td>NaN</td>\n",
              "      <td>NaN</td>\n",
              "      <td>NaN</td>\n",
              "      <td>NaN</td>\n",
              "      <td>NaN</td>\n",
              "      <td>NaN</td>\n",
              "      <td>NaN</td>\n",
              "      <td>NaN</td>\n",
              "      <td>NaN</td>\n",
              "    </tr>\n",
              "  </tbody>\n",
              "</table>\n",
              "<p>5 rows × 34 columns</p>\n",
              "</div>\n",
              "    <div class=\"colab-df-buttons\">\n",
              "\n",
              "  <div class=\"colab-df-container\">\n",
              "    <button class=\"colab-df-convert\" onclick=\"convertToInteractive('df-36e9ba64-3054-425b-9c90-32fa648082a6')\"\n",
              "            title=\"Convert this dataframe to an interactive table.\"\n",
              "            style=\"display:none;\">\n",
              "\n",
              "  <svg xmlns=\"http://www.w3.org/2000/svg\" height=\"24px\" viewBox=\"0 -960 960 960\">\n",
              "    <path d=\"M120-120v-720h720v720H120Zm60-500h600v-160H180v160Zm220 220h160v-160H400v160Zm0 220h160v-160H400v160ZM180-400h160v-160H180v160Zm440 0h160v-160H620v160ZM180-180h160v-160H180v160Zm440 0h160v-160H620v160Z\"/>\n",
              "  </svg>\n",
              "    </button>\n",
              "\n",
              "  <style>\n",
              "    .colab-df-container {\n",
              "      display:flex;\n",
              "      gap: 12px;\n",
              "    }\n",
              "\n",
              "    .colab-df-convert {\n",
              "      background-color: #E8F0FE;\n",
              "      border: none;\n",
              "      border-radius: 50%;\n",
              "      cursor: pointer;\n",
              "      display: none;\n",
              "      fill: #1967D2;\n",
              "      height: 32px;\n",
              "      padding: 0 0 0 0;\n",
              "      width: 32px;\n",
              "    }\n",
              "\n",
              "    .colab-df-convert:hover {\n",
              "      background-color: #E2EBFA;\n",
              "      box-shadow: 0px 1px 2px rgba(60, 64, 67, 0.3), 0px 1px 3px 1px rgba(60, 64, 67, 0.15);\n",
              "      fill: #174EA6;\n",
              "    }\n",
              "\n",
              "    .colab-df-buttons div {\n",
              "      margin-bottom: 4px;\n",
              "    }\n",
              "\n",
              "    [theme=dark] .colab-df-convert {\n",
              "      background-color: #3B4455;\n",
              "      fill: #D2E3FC;\n",
              "    }\n",
              "\n",
              "    [theme=dark] .colab-df-convert:hover {\n",
              "      background-color: #434B5C;\n",
              "      box-shadow: 0px 1px 3px 1px rgba(0, 0, 0, 0.15);\n",
              "      filter: drop-shadow(0px 1px 2px rgba(0, 0, 0, 0.3));\n",
              "      fill: #FFFFFF;\n",
              "    }\n",
              "  </style>\n",
              "\n",
              "    <script>\n",
              "      const buttonEl =\n",
              "        document.querySelector('#df-36e9ba64-3054-425b-9c90-32fa648082a6 button.colab-df-convert');\n",
              "      buttonEl.style.display =\n",
              "        google.colab.kernel.accessAllowed ? 'block' : 'none';\n",
              "\n",
              "      async function convertToInteractive(key) {\n",
              "        const element = document.querySelector('#df-36e9ba64-3054-425b-9c90-32fa648082a6');\n",
              "        const dataTable =\n",
              "          await google.colab.kernel.invokeFunction('convertToInteractive',\n",
              "                                                    [key], {});\n",
              "        if (!dataTable) return;\n",
              "\n",
              "        const docLinkHtml = 'Like what you see? Visit the ' +\n",
              "          '<a target=\"_blank\" href=https://colab.research.google.com/notebooks/data_table.ipynb>data table notebook</a>'\n",
              "          + ' to learn more about interactive tables.';\n",
              "        element.innerHTML = '';\n",
              "        dataTable['output_type'] = 'display_data';\n",
              "        await google.colab.output.renderOutput(dataTable, element);\n",
              "        const docLink = document.createElement('div');\n",
              "        docLink.innerHTML = docLinkHtml;\n",
              "        element.appendChild(docLink);\n",
              "      }\n",
              "    </script>\n",
              "  </div>\n",
              "\n",
              "\n",
              "<div id=\"df-c25708f2-620d-4aad-b828-a6f9b781c014\">\n",
              "  <button class=\"colab-df-quickchart\" onclick=\"quickchart('df-c25708f2-620d-4aad-b828-a6f9b781c014')\"\n",
              "            title=\"Suggest charts.\"\n",
              "            style=\"display:none;\">\n",
              "\n",
              "<svg xmlns=\"http://www.w3.org/2000/svg\" height=\"24px\"viewBox=\"0 0 24 24\"\n",
              "     width=\"24px\">\n",
              "    <g>\n",
              "        <path d=\"M19 3H5c-1.1 0-2 .9-2 2v14c0 1.1.9 2 2 2h14c1.1 0 2-.9 2-2V5c0-1.1-.9-2-2-2zM9 17H7v-7h2v7zm4 0h-2V7h2v10zm4 0h-2v-4h2v4z\"/>\n",
              "    </g>\n",
              "</svg>\n",
              "  </button>\n",
              "\n",
              "<style>\n",
              "  .colab-df-quickchart {\n",
              "    background-color: #E8F0FE;\n",
              "    border: none;\n",
              "    border-radius: 50%;\n",
              "    cursor: pointer;\n",
              "    display: none;\n",
              "    fill: #1967D2;\n",
              "    height: 32px;\n",
              "    padding: 0 0 0 0;\n",
              "    width: 32px;\n",
              "  }\n",
              "\n",
              "  .colab-df-quickchart:hover {\n",
              "    background-color: #E2EBFA;\n",
              "    box-shadow: 0px 1px 2px rgba(60, 64, 67, 0.3), 0px 1px 3px 1px rgba(60, 64, 67, 0.15);\n",
              "    fill: #174EA6;\n",
              "  }\n",
              "\n",
              "  [theme=dark] .colab-df-quickchart {\n",
              "    background-color: #3B4455;\n",
              "    fill: #D2E3FC;\n",
              "  }\n",
              "\n",
              "  [theme=dark] .colab-df-quickchart:hover {\n",
              "    background-color: #434B5C;\n",
              "    box-shadow: 0px 1px 3px 1px rgba(0, 0, 0, 0.15);\n",
              "    filter: drop-shadow(0px 1px 2px rgba(0, 0, 0, 0.3));\n",
              "    fill: #FFFFFF;\n",
              "  }\n",
              "</style>\n",
              "\n",
              "  <script>\n",
              "    async function quickchart(key) {\n",
              "      const charts = await google.colab.kernel.invokeFunction(\n",
              "          'suggestCharts', [key], {});\n",
              "    }\n",
              "    (() => {\n",
              "      let quickchartButtonEl =\n",
              "        document.querySelector('#df-c25708f2-620d-4aad-b828-a6f9b781c014 button');\n",
              "      quickchartButtonEl.style.display =\n",
              "        google.colab.kernel.accessAllowed ? 'block' : 'none';\n",
              "    })();\n",
              "  </script>\n",
              "</div>\n",
              "    </div>\n",
              "  </div>\n"
            ]
          },
          "metadata": {},
          "execution_count": 30
        }
      ],
      "source": [
        "import pandas as pd\n",
        "\n",
        "df = pd.read_csv('Diabetes_Data.csv') # read the Diabetes dataset in to a pandas dataframe\n",
        "df.head()"
      ]
    },
    {
      "cell_type": "markdown",
      "metadata": {
        "id": "UxLj4WYOBcD1"
      },
      "source": [
        "To illustrate the implementation of gradient descent we create a two-dimensional feature set with just the fields 'BMI' and 'BP'. As always we normalize the variables to improve the stability of the model. The target variable is stored in a data series 'Y'."
      ]
    },
    {
      "cell_type": "code",
      "execution_count": 31,
      "metadata": {
        "id": "fqpDbfYFBcD1"
      },
      "outputs": [],
      "source": [
        "X = df[['BMI', 'BP']]\n",
        "X = (X-X.mean())/X.std()\n",
        "Y = df['Y']"
      ]
    },
    {
      "cell_type": "markdown",
      "metadata": {
        "id": "_SvGMtaTBcD1"
      },
      "source": [
        "We then split the dataset into training and testing sets."
      ]
    },
    {
      "cell_type": "code",
      "execution_count": 32,
      "metadata": {
        "id": "XX4pN2BTBcD1"
      },
      "outputs": [],
      "source": [
        "from sklearn.model_selection import train_test_split # for splitting the data into training and testing sets\n",
        "\n",
        "X_train, X_test, Y_train, Y_test = train_test_split(X, Y, test_size=0.8, random_state=42)\n"
      ]
    },
    {
      "cell_type": "markdown",
      "metadata": {
        "id": "QZAFd-5BBcD1"
      },
      "source": [
        "To implement gradient descent we need to specify the function that is to be miminized and then calculate the gradient of this function. For linear regression the model creates a linear function\n",
        "\n",
        "$$\n",
        "y_m^{(i)} = a_1 x_1^{(i)} + a_2 x_2^{(i)} + b,\n",
        "$$\n",
        "\n",
        "where in this case $x_1$ and $x_2$ correspond respectively to 'BMI' and 'BP. The aim is to choose the unknowns $a_1$, $a_2$ and $b$ which minimize the Mean Square Error:\n",
        "\n",
        "$$\n",
        "E = \\sum_{i=1}^M (y_m^{(i)}-y^{(i)})^2,\n",
        "$$\n",
        "\n",
        "where $M$ is the number of instances in the dataset and $y^{(i)}$ are the observations.\n",
        "\n",
        "To calculate the gradient of $E$ with respect to the unknowns $a_1$, $a_2$ and $b$, we can use the Chain Rule, since $E$ is only dependent on this variables through $y_m^{(i)}$. For example the partial derivative with respect to $b$ is\n",
        "\n",
        "$$\n",
        "\\frac{\\partial E}{\\partial b} = \\sum_{i=1}^M \\frac{\\partial y_m^{(i)}}{\\partial b} 2(y_m^{(i)}-y^{(i)})\n",
        "= \\sum_{i=1}^M 2(y_m^{(i)}-y^{(i)}).\n",
        "$$\n",
        "\n",
        "Similarly,\n",
        "\n",
        "$$\n",
        "\\frac{\\partial E}{\\partial a_1} = \\sum_{i=1}^M \\frac{\\partial y_m^{(i)}}{\\partial a_1} 2(y_m^{(i)}-y^{(i)})\n",
        "= \\sum_{i=1}^M x_1^{(i)} 2(y_m^{(i)}-y^{(i)}),\n",
        "$$\n",
        "\n",
        "and therefore the gradient is\n",
        "\n",
        "$$\n",
        "\\nabla E = \\left(\\sum_{i=1}^M x_1^{(i)} 2(y_m^{(i)}-y^{(i)}), \\sum_{i=1}^M x_2^{(i)} 2(y_m^{(i)}-y^{(i)}), \\sum_{i=1}^M 2(y_m^{(i)}-y^{(i)}) \\right).\n",
        "$$\n",
        "\n",
        "The two functions below calculate the error and the gradient respectively, where $a = (a_1,a_2,b)$."
      ]
    },
    {
      "cell_type": "code",
      "execution_count": null,
      "metadata": {
        "id": "W6OCEWSGBcD1"
      },
      "outputs": [],
      "source": [
        "def MSE(a):\n",
        "    yp = a[0]*X_train.iloc[:,0]+a[1]*X_train.iloc[:,1]+a[2]-Y_train\n",
        "    MSE = np.sum(yp**2)\n",
        "    return MSE\n",
        "\n",
        "def MSE_grad(a):\n",
        "    yp = a[0]*X_train.iloc[:,0]+a[1]*X_train.iloc[:,1]+a[2]-Y_train\n",
        "    MSE_grad = np.array([2*np.sum(yp*X_train.iloc[:,0]),\n",
        "                         2*np.sum(yp*X_train.iloc[:,1]),\n",
        "                         2*np.sum(yp)])\n",
        "    return MSE_grad"
      ]
    },
    {
      "cell_type": "markdown",
      "metadata": {
        "id": "2xxqOoybBcD1"
      },
      "source": [
        "Now we can use gradient descent to solve for the unknowns of the model. For the given decay rate the model converges smoothly, and the evaluation of the function appears to show the function reaching a minimum. Note that we have only plotted the projection of the evolution of the model in $(a_1,a_2)$ space."
      ]
    },
    {
      "cell_type": "code",
      "execution_count": null,
      "metadata": {
        "id": "rrjDfZ-zBcD1"
      },
      "outputs": [],
      "source": [
        "xa = np.zeros((21, 3))\n",
        "xs = np.array([.0,.0,.0])\n",
        "xa[0] = xs\n",
        "lrate = .002\n",
        "decay = .0\n",
        "for ix in range(20):\n",
        "    lr = lrate/(1+decay*ix)\n",
        "    xc = gradient_descent(MSE_grad,xs,lr,n_iter=1)\n",
        "    xa[ix+1] = xc\n",
        "    xs = xc\n",
        "\n",
        "fig, (ax1, ax2) = plt.subplots(1,2,figsize=(10, 5)) # initialise the plots and axes\n",
        "\n",
        "# # Make data.\n",
        "ax1.plot(xa[:,0], xa[:,1], 'r.-')\n",
        "E = np.zeros((20,))\n",
        "for ix in range(20):\n",
        "    E[ix] = MSE(xa[ix,:])\n",
        "\n",
        "ax2.plot(E)\n",
        "print('Model coefficients are ',np.round(xa[20,:],3))\n",
        "\n",
        "ax1.set_xlabel('a1')\n",
        "ax1.set_ylabel('a2')\n",
        "ax2.set_xlabel('Iterations')\n",
        "ax2.set_ylabel('f(x)')\n",
        "fig.tight_layout(pad=3.0);"
      ]
    },
    {
      "cell_type": "markdown",
      "metadata": {
        "id": "ixStsP_wBcD1"
      },
      "source": [
        "We can compare the effectiveness of the model by plotting the predictions against observations, and calculating the correlation. As can be seen the model is reasonably effective, given that we have only used two features."
      ]
    },
    {
      "cell_type": "code",
      "execution_count": null,
      "metadata": {
        "id": "fpXdBz-jBcD1"
      },
      "outputs": [],
      "source": [
        "a = xa[20,:]\n",
        "yp = a[0]*X_test.iloc[:,0]+a[1]*X_test.iloc[:,1]+a[2]\n",
        "plt.plot(yp,Y_test,'.')\n",
        "plt.xlabel('Predictions')\n",
        "plt.ylabel('Observations')\n",
        "\n",
        "print('Correlation is',np.round(np.corrcoef(yp, Y_test)[0,1],3))"
      ]
    },
    {
      "cell_type": "code",
      "source": [],
      "metadata": {
        "id": "jrHKulqNx4E1"
      },
      "execution_count": null,
      "outputs": []
    },
    {
      "cell_type": "markdown",
      "metadata": {
        "id": "mRODpOY1BcD1"
      },
      "source": [
        "## Exercises"
      ]
    },
    {
      "cell_type": "markdown",
      "metadata": {
        "id": "wne2oonQBcD1"
      },
      "source": [
        "### Exercise 1 (10 marks)"
      ]
    },
    {
      "cell_type": "markdown",
      "metadata": {
        "id": "qnPgXTU_BcD1"
      },
      "source": [
        "For linear regression with lasso regularization, the function to be minimized is\n",
        "\n",
        "$$\n",
        "E = \\sum_{i=1}^M (y_m^{(i)}-y^{(i)})^2 + \\alpha (|a_1|+|a_2|+\\cdots+|a_n|+|b|),\n",
        "$$\n",
        "\n",
        "where\n",
        "\n",
        "$$\n",
        "y_m^{(i)} = a_1 x_1^{(i)} + a_2 x_2^{(i)}+ \\cdots+  a_n x_n^{(i)} + b,\n",
        "$$\n",
        "\n",
        "and $\\alpha$ is the penalty weight.\n",
        "\n",
        "Repeat the calculations for the Diabetes dataset, but this time also include the blood serum measurement 'S5' and use lasso regularization with $\\alpha=2$. You should include the model coefficients and the correlation between the predicted and observed values for the training set.\n",
        "\n",
        "The derivative of $|x|$ is $\\hbox{sign} (x)$, which is $-1$ for $x<0$ and $1$ for $x\\ge 0$, and can be calculated using the function `np.sign()`.\n"
      ]
    },
    {
      "cell_type": "code",
      "source": [],
      "metadata": {
        "colab": {
          "base_uri": "https://localhost:8080/"
        },
        "id": "IGxTXNibrNqO",
        "outputId": "dc9f8f86-9299-47ff-89be-f35b1cede67e"
      },
      "execution_count": null,
      "outputs": [
        {
          "output_type": "stream",
          "name": "stdout",
          "text": [
            "Mounted at /content/gdrive\n"
          ]
        }
      ]
    },
    {
      "cell_type": "code",
      "execution_count": 34,
      "metadata": {
        "id": "PvopQI1JBcD1",
        "colab": {
          "base_uri": "https://localhost:8080/"
        },
        "outputId": "00383b87-80f3-4e54-aed3-bd783308d6ce"
      },
      "outputs": [
        {
          "output_type": "stream",
          "name": "stdout",
          "text": [
            "Model coefficients are  [ 28.578  23.636  10.035 137.201]\n"
          ]
        }
      ],
      "source": [
        "X = df[['BMI', 'BP', 'S5']]\n",
        "X = (X-X.mean())/X.std()\n",
        "Y = df['Y']\n",
        "\n",
        "X_train, X_test, Y_train, Y_test = train_test_split(X, Y, test_size=0.8, random_state=42)\n",
        "\n",
        "alfa = 2\n",
        "\n",
        "def MSE(a):\n",
        "    n_samples = Y_train.size\n",
        "    yp = a[0]*X_train.iloc[:,0]+a[1]*X_train.iloc[:,1]+a[2]*X_train.iloc[:,2]+a[3]-Y_train\n",
        "    MSE = 1/(2*n_samples)*np.sum(yp**2) + alfa*np.sum(np.abs(a))\n",
        "    return MSE\n",
        "\n",
        "def MSE_grad(a):\n",
        "    n_samples = Y_train.size\n",
        "    yp = a[0]*X_train.iloc[:,0]+a[1]*X_train.iloc[:,1]+a[2]*X_train.iloc[:,2]+a[3]-Y_train\n",
        "    MSE_grad = np.array([1/n_samples*np.sum(yp*X_train.iloc[:,0]) + alfa*np.sign(a[0]),\n",
        "                         1/n_samples*np.sum(yp*X_train.iloc[:,1]) + alfa*np.sign(a[1]),\n",
        "                         1/n_samples*np.sum(yp*X_train.iloc[:,2]) + alfa*np.sign(a[2]),\n",
        "                         1/n_samples*np.sum(yp) + alfa*np.sign(a[3])])\n",
        "    return MSE_grad\n",
        "\n",
        "xs = np.array([.0,.0,.0,.0])\n",
        "lrate = .1\n",
        "decay = .0\n",
        "for ix in range(50):\n",
        "    lr = lrate/(1+decay*ix)\n",
        "    xc = gradient_descent(MSE_grad,xs,lr,n_iter=1)\n",
        "    xs = xc\n",
        "\n",
        "print('Model coefficients are ',np.round(xc, 3))"
      ]
    },
    {
      "cell_type": "code",
      "source": [
        "a = xs\n",
        "yp = a[0]*X_test.iloc[:,0]+a[1]*X_test.iloc[:,1]+a[2]*X_test.iloc[:,2]+a[3]\n",
        "print('Correlation is',np.round(np.corrcoef(yp, Y_test)[0,1],3))"
      ],
      "metadata": {
        "colab": {
          "base_uri": "https://localhost:8080/"
        },
        "id": "hWc0oDzUwAkM",
        "outputId": "f2f16b5a-f8a2-4643-beee-616ea150f1fe"
      },
      "execution_count": 36,
      "outputs": [
        {
          "output_type": "stream",
          "name": "stdout",
          "text": [
            "Correlation is 0.663\n"
          ]
        }
      ]
    },
    {
      "cell_type": "code",
      "source": [
        "from sklearn.linear_model import Lasso\n",
        "\n",
        "clf = Lasso(alpha=2.)\n",
        "clf.fit(X_train, Y_train)\n",
        "print(clf.coef_)\n",
        "print(clf.intercept_)\n",
        "\n",
        "yp = clf.predict(X_test)\n",
        "print('Correlation is',np.round(np.corrcoef(yp, Y_test)[0,1],3))"
      ],
      "metadata": {
        "colab": {
          "base_uri": "https://localhost:8080/"
        },
        "id": "7PWqKvahwKjv",
        "outputId": "5b698ba5-8408-40ff-ebed-c95cf9b3dcd1"
      },
      "execution_count": 37,
      "outputs": [
        {
          "output_type": "stream",
          "name": "stdout",
          "text": [
            "[29.97649138 22.38794115 10.15552115]\n",
            "140.20359904929617\n",
            "Correlation is 0.666\n"
          ]
        }
      ]
    },
    {
      "cell_type": "code",
      "source": [
        "!git clone https://github.com/nngu0123/ADS2002.git"
      ],
      "metadata": {
        "colab": {
          "base_uri": "https://localhost:8080/"
        },
        "id": "sf0oXpiqy7-0",
        "outputId": "88e9c4a9-046f-4a0d-ee54-b217ae0ec39b"
      },
      "execution_count": 39,
      "outputs": [
        {
          "output_type": "stream",
          "name": "stdout",
          "text": [
            "Cloning into 'ADS2002'...\n",
            "fatal: could not read Username for 'https://github.com': No such device or address\n"
          ]
        }
      ]
    },
    {
      "cell_type": "markdown",
      "metadata": {
        "id": "uvVxijFaBcD1"
      },
      "source": [
        "### Generative AI Acknowledgement\n",
        "\n",
        "If you used generative AI to assist you with these excercises, document your use below following the guidelines here: https://www.monash.edu/learnhq/build-digital-capabilities/create-online/acknowledging-the-use-of-generative-artificial-intelligence"
      ]
    },
    {
      "cell_type": "code",
      "execution_count": 38,
      "metadata": {
        "id": "JB4hv6f0BcD1"
      },
      "outputs": [],
      "source": []
    },
    {
      "cell_type": "markdown",
      "source": [
        "I acknowledge the use of Chatgpt to proposed some code. The prompts used include \"𝐸=∑𝑖=1𝑀(𝑦(𝑖)𝑚−𝑦(𝑖))2+𝛼(|𝑎1|+|𝑎2|+⋯+|𝑎𝑛|+|𝑏|),\n",
        "\n",
        "where\n",
        "\n",
        "𝑦(𝑖)𝑚=𝑎1𝑥(𝑖)1+𝑎2𝑥(𝑖)2+⋯+𝑎𝑛𝑥(𝑖)𝑛+𝑏,\n",
        "\n",
        "and  𝛼  is the penalty weight.\n",
        "\n",
        "Repeat the calculations for the Diabetes dataset, but this time also include the blood serum measurement 'S5' and use lasso regularization with  𝛼=2\". The output from these prompts was used to \"# Add the 'S5' feature to the dataset\n",
        "new_feature = data.data[:, data.feature_names.tolist().index('s5')]\n",
        "X = np.column_stack((X, new_feature))\n",
        "\n",
        "# Split the data into training and testing sets\n",
        "X_train, X_test, y_train, y_test = train_test_split(X, y, test_size=0.2, random_state=42)\n",
        "\n",
        "# Initialize the Lasso regression model with alpha = 2\n",
        "lasso_model = Lasso(alpha=2)\""
      ],
      "metadata": {
        "id": "6HFAACxzwUwH"
      }
    }
  ],
  "metadata": {
    "kernelspec": {
      "display_name": "Python 3",
      "language": "python",
      "name": "python3"
    },
    "language_info": {
      "codemirror_mode": {
        "name": "ipython",
        "version": 3
      },
      "file_extension": ".py",
      "mimetype": "text/x-python",
      "name": "python",
      "nbconvert_exporter": "python",
      "pygments_lexer": "ipython3",
      "version": "3.8.5"
    },
    "colab": {
      "provenance": [],
      "include_colab_link": true
    }
  },
  "nbformat": 4,
  "nbformat_minor": 0
}